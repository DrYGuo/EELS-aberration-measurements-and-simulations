{
  "nbformat": 4,
  "nbformat_minor": 0,
  "metadata": {
    "colab": {
      "name": "Copy of EELS Aberration simulations_using Hamish pySTEM.ipynb",
      "provenance": [],
      "collapsed_sections": [],
      "authorship_tag": "ABX9TyOjtXdKXUrLadaKcvNfQ05n",
      "include_colab_link": true
    },
    "kernelspec": {
      "name": "python3",
      "display_name": "Python 3"
    },
    "language_info": {
      "name": "python"
    }
  },
  "cells": [
    {
      "cell_type": "markdown",
      "metadata": {
        "id": "view-in-github",
        "colab_type": "text"
      },
      "source": [
        "<a href=\"https://colab.research.google.com/github/DrYGuo/EELS-aberration-measurements-and-simulations/blob/main/Copy_of_EELS_Aberration_simulations_using_Hamish_pySTEM.ipynb\" target=\"_parent\"><img src=\"https://colab.research.google.com/assets/colab-badge.svg\" alt=\"Open In Colab\"/></a>"
      ]
    },
    {
      "cell_type": "code",
      "metadata": {
        "colab": {
          "base_uri": "https://localhost:8080/"
        },
        "id": "9jxdi3gu51AZ",
        "outputId": "a70f9e68-32a5-4718-b5ea-cd60b449f22b"
      },
      "source": [
        "!git clone https://github.com/HamishGBrown/py_multislice"
      ],
      "execution_count": null,
      "outputs": [
        {
          "output_type": "stream",
          "text": [
            "Cloning into 'py_multislice'...\n",
            "remote: Enumerating objects: 760, done.\u001b[K\n",
            "remote: Counting objects: 100% (7/7), done.\u001b[K\n",
            "remote: Compressing objects: 100% (7/7), done.\u001b[K\n",
            "remote: Total 760 (delta 0), reused 1 (delta 0), pack-reused 753\u001b[K\n",
            "Receiving objects: 100% (760/760), 12.64 MiB | 20.48 MiB/s, done.\n",
            "Resolving deltas: 100% (514/514), done.\n"
          ],
          "name": "stdout"
        }
      ]
    },
    {
      "cell_type": "code",
      "metadata": {
        "id": "oC6MC5Rb7JAZ"
      },
      "source": [
        "import sys\n",
        "sys.path.append('/content/py_multislice/pyms/utils')"
      ],
      "execution_count": null,
      "outputs": []
    },
    {
      "cell_type": "code",
      "metadata": {
        "id": "mVwp6jYt-vhz"
      },
      "source": [
        "from numpy_utils import q_space_array"
      ],
      "execution_count": null,
      "outputs": []
    },
    {
      "cell_type": "code",
      "metadata": {
        "id": "n5KPDsseOFil"
      },
      "source": [
        "import matplotlib.pyplot as plt"
      ],
      "execution_count": null,
      "outputs": []
    },
    {
      "cell_type": "code",
      "metadata": {
        "colab": {
          "base_uri": "https://localhost:8080/",
          "height": 1000
        },
        "id": "uDQdltaqFpj-",
        "outputId": "4da819cd-44a8-4fe5-f8f2-adbc53593f42"
      },
      "source": [
        "!pwd\n",
        "%cd py_multislice/\n",
        "#install dependencies using the following line\n",
        "!pip install -e."
      ],
      "execution_count": null,
      "outputs": [
        {
          "output_type": "stream",
          "text": [
            "/content\n",
            "/content/py_multislice\n",
            "Obtaining file:///content/py_multislice\n",
            "Requirement already satisfied: h5py>=2.10 in /usr/local/lib/python3.7/dist-packages (from pyms==0.1) (3.1.0)\n",
            "Requirement already satisfied: ipython>=4.0 in /usr/local/lib/python3.7/dist-packages (from pyms==0.1) (5.5.0)\n",
            "Requirement already satisfied: scipy>=1.1 in /usr/local/lib/python3.7/dist-packages (from pyms==0.1) (1.4.1)\n",
            "Requirement already satisfied: matplotlib>=3.0 in /usr/local/lib/python3.7/dist-packages (from pyms==0.1) (3.2.2)\n",
            "Collecting nbstripout\n",
            "  Downloading nbstripout-0.5.0-py2.py3-none-any.whl (14 kB)\n",
            "Requirement already satisfied: numpy>=1.17 in /usr/local/lib/python3.7/dist-packages (from pyms==0.1) (1.19.5)\n",
            "Requirement already satisfied: Pillow>=6.0 in /usr/local/lib/python3.7/dist-packages (from pyms==0.1) (7.1.2)\n",
            "Requirement already satisfied: torch>=1.2 in /usr/local/lib/python3.7/dist-packages (from pyms==0.1) (1.9.0+cu102)\n",
            "Collecting tqdm>=4.48\n",
            "  Downloading tqdm-4.62.0-py2.py3-none-any.whl (76 kB)\n",
            "\u001b[K     |████████████████████████████████| 76 kB 2.5 MB/s \n",
            "\u001b[?25hCollecting ase\n",
            "  Downloading ase-3.22.0-py3-none-any.whl (2.2 MB)\n",
            "\u001b[K     |████████████████████████████████| 2.2 MB 30.9 MB/s \n",
            "\u001b[?25hCollecting pypng\n",
            "  Downloading pypng-0.0.20.tar.gz (649 kB)\n",
            "\u001b[K     |████████████████████████████████| 649 kB 41.9 MB/s \n",
            "\u001b[?25hRequirement already satisfied: cached-property in /usr/local/lib/python3.7/dist-packages (from h5py>=2.10->pyms==0.1) (1.5.2)\n",
            "Requirement already satisfied: decorator in /usr/local/lib/python3.7/dist-packages (from ipython>=4.0->pyms==0.1) (4.4.2)\n",
            "Requirement already satisfied: pygments in /usr/local/lib/python3.7/dist-packages (from ipython>=4.0->pyms==0.1) (2.6.1)\n",
            "Requirement already satisfied: pexpect in /usr/local/lib/python3.7/dist-packages (from ipython>=4.0->pyms==0.1) (4.8.0)\n",
            "Requirement already satisfied: simplegeneric>0.8 in /usr/local/lib/python3.7/dist-packages (from ipython>=4.0->pyms==0.1) (0.8.1)\n",
            "Requirement already satisfied: traitlets>=4.2 in /usr/local/lib/python3.7/dist-packages (from ipython>=4.0->pyms==0.1) (5.0.5)\n",
            "Requirement already satisfied: setuptools>=18.5 in /usr/local/lib/python3.7/dist-packages (from ipython>=4.0->pyms==0.1) (57.2.0)\n",
            "Requirement already satisfied: prompt-toolkit<2.0.0,>=1.0.4 in /usr/local/lib/python3.7/dist-packages (from ipython>=4.0->pyms==0.1) (1.0.18)\n",
            "Requirement already satisfied: pickleshare in /usr/local/lib/python3.7/dist-packages (from ipython>=4.0->pyms==0.1) (0.7.5)\n",
            "Requirement already satisfied: pyparsing!=2.0.4,!=2.1.2,!=2.1.6,>=2.0.1 in /usr/local/lib/python3.7/dist-packages (from matplotlib>=3.0->pyms==0.1) (2.4.7)\n",
            "Requirement already satisfied: python-dateutil>=2.1 in /usr/local/lib/python3.7/dist-packages (from matplotlib>=3.0->pyms==0.1) (2.8.1)\n",
            "Requirement already satisfied: cycler>=0.10 in /usr/local/lib/python3.7/dist-packages (from matplotlib>=3.0->pyms==0.1) (0.10.0)\n",
            "Requirement already satisfied: kiwisolver>=1.0.1 in /usr/local/lib/python3.7/dist-packages (from matplotlib>=3.0->pyms==0.1) (1.3.1)\n",
            "Requirement already satisfied: six in /usr/local/lib/python3.7/dist-packages (from cycler>=0.10->matplotlib>=3.0->pyms==0.1) (1.15.0)\n",
            "Requirement already satisfied: wcwidth in /usr/local/lib/python3.7/dist-packages (from prompt-toolkit<2.0.0,>=1.0.4->ipython>=4.0->pyms==0.1) (0.2.5)\n",
            "Requirement already satisfied: typing-extensions in /usr/local/lib/python3.7/dist-packages (from torch>=1.2->pyms==0.1) (3.7.4.3)\n",
            "Requirement already satisfied: ipython-genutils in /usr/local/lib/python3.7/dist-packages (from traitlets>=4.2->ipython>=4.0->pyms==0.1) (0.2.0)\n",
            "Requirement already satisfied: nbformat in /usr/local/lib/python3.7/dist-packages (from nbstripout->pyms==0.1) (5.1.3)\n",
            "Requirement already satisfied: jupyter-core in /usr/local/lib/python3.7/dist-packages (from nbformat->nbstripout->pyms==0.1) (4.7.1)\n",
            "Requirement already satisfied: jsonschema!=2.5.0,>=2.4 in /usr/local/lib/python3.7/dist-packages (from nbformat->nbstripout->pyms==0.1) (2.6.0)\n",
            "Requirement already satisfied: ptyprocess>=0.5 in /usr/local/lib/python3.7/dist-packages (from pexpect->ipython>=4.0->pyms==0.1) (0.7.0)\n",
            "Building wheels for collected packages: pypng\n",
            "  Building wheel for pypng (setup.py) ... \u001b[?25l\u001b[?25hdone\n",
            "  Created wheel for pypng: filename=pypng-0.0.20-py3-none-any.whl size=67177 sha256=b76ad6997901528fabe602558cb44cb067e8eb3a45426a6b73ffb392d454f739\n",
            "  Stored in directory: /root/.cache/pip/wheels/54/64/43/dfd10cf95dc1687dc5350e861321ecd9a5d76b7c3d96fa1dc6\n",
            "Successfully built pypng\n",
            "Installing collected packages: tqdm, pypng, nbstripout, ase, pyms\n",
            "  Attempting uninstall: tqdm\n",
            "    Found existing installation: tqdm 4.41.1\n",
            "    Uninstalling tqdm-4.41.1:\n",
            "      Successfully uninstalled tqdm-4.41.1\n",
            "  Running setup.py develop for pyms\n",
            "Successfully installed ase-3.22.0 nbstripout-0.5.0 pyms-0.1 pypng-0.0.20 tqdm-4.62.0\n"
          ],
          "name": "stdout"
        },
        {
          "output_type": "display_data",
          "data": {
            "application/vnd.colab-display-data+json": {
              "pip_warning": {
                "packages": [
                  "tqdm"
                ]
              }
            }
          },
          "metadata": {
            "tags": []
          }
        }
      ]
    },
    {
      "cell_type": "code",
      "metadata": {
        "id": "7Y2Yc2gc2wCj"
      },
      "source": [
        "\"\"\"Functions for emulating electron optics of a TEM.\"\"\"\n",
        "\n",
        "import numpy as np\n",
        "import copy\n",
        "from numpy_utils import q_space_array\n",
        "\n",
        "\n",
        "class aberration:\n",
        "    \"\"\"A class describing electron lens aberrations.\"\"\"\n",
        "\n",
        "    def __init__(self, Krivanek, Haider, Description, amplitude, angle, n, m):\n",
        "        \"\"\"\n",
        "        Intialize the lens aberration object.\n",
        "        Parameters\n",
        "        ----------\n",
        "        Krivanek : str\n",
        "            A string describing the aberration coefficient in Krivanek notation\n",
        "            (C_mn)\n",
        "        Haider : str\n",
        "            A string describing the aberration coefficient in Haider notation\n",
        "            (ie. A1, A2, B2)\n",
        "        Description : str\n",
        "            A string describing the colloqiual name of the aberration ie. 2-fold\n",
        "            astig.\n",
        "        amplitude : float\n",
        "            The amplitude of the aberration in Angstrom\n",
        "        angle : float\n",
        "            The angle of the aberration in radians\n",
        "        n : int\n",
        "            The principle aberration order\n",
        "        m : int\n",
        "            The rotational order of the aberration.\n",
        "        \"\"\"\n",
        "        self.Krivanek = Krivanek\n",
        "        self.Haider = Haider\n",
        "        self.Description = Description\n",
        "        self.amplitude = amplitude\n",
        "        self.m = m\n",
        "        self.n = n\n",
        "        if m > 0:\n",
        "            self.angle = angle # This angle is not very consistent with the convention in NION. Here Cnm cos(m*(phi-angle)) is used instead of Cnma cos(m*phi)+Cnmb sin(m*phi)\n",
        "        else:\n",
        "            self.angle = 0\n",
        "\n",
        "\n",
        "    def __str__(self):\n",
        "        \"\"\"Return a string describing the aberration.\"\"\"\n",
        "        if self.m > 0:\n",
        "            return (\n",
        "                \"{0:17s} ({1:2s}) -- {2:3s} = {3:9.2e} \\u00E5 \\u03B8 = \"\n",
        "                + \"{4:4d}\\u00B0 \"\n",
        "            ).format(\n",
        "                self.Description,\n",
        "                self.Haider,\n",
        "                self.Krivanek,\n",
        "                self.amplitude,\n",
        "                int(np.rad2deg(self.angle)),\n",
        "            )\n",
        "        else:\n",
        "            return \" {0:17s} ({1:2s}) -- {2:3s} = {3:9.2e} \\u00E5\".format(\n",
        "                self.Description, self.Haider, self.Krivanek, self.amplitude\n",
        "            )\n",
        "    \n",
        "# functions below\n",
        "\n",
        "def aberration_starter_pack():\n",
        "    \"\"\"Create the set of aberrations up to fifth order. YG: All the units should be in Angstrom \"\"\"\n",
        "    aberrations = []\n",
        "    aberrations.append(aberration(\"C10\", \"C1\", \"Defocus        \",   0.0, 0.0, 1, 0)) # Cnm_amplitude, Cnm_phase, n, m\n",
        "    aberrations.append(aberration(\"C12\", \"A1\", \"2-Fold astig.    \", 0.0, 0.0, 1, 2))\n",
        "    aberrations.append(aberration(\"C23\", \"A2\", \"3-Fold astig.    \", 0.0, 0.0, 2, 3))\n",
        "    aberrations.append(aberration(\"C21\", \"B2\", \"Axial coma       \", 5000.0, 5000.0, 2, 1))\n",
        "    aberrations.append(aberration(\"C30\", \"C3\", \"3rd order spher. \", 0.0, 0.0, 3, 0))\n",
        "    aberrations.append(aberration(\"C34\", \"A3\", \"4-Fold astig.    \", 0.0, 0.0, 3, 4))\n",
        "    aberrations.append(aberration(\"C32\", \"S3\", \"Axial star aber. \", 0.0, 0.0, 3, 2))\n",
        "    aberrations.append(aberration(\"C45\", \"A4\", \"5-Fold astig.    \", 0.0, 0.0, 4, 5))\n",
        "    aberrations.append(aberration(\"C43\", \"D4\", \"3-Lobe aberr.    \", 0.0, 0.0, 4, 3))\n",
        "    aberrations.append(aberration(\"C41\", \"B4\", \"4th order coma   \", 0.0, 0.0, 4, 1))\n",
        "    aberrations.append(aberration(\"C50\", \"C5\", \"5th order spher. \", 0.0, 0.0, 5, 0))\n",
        "    aberrations.append(aberration(\"C56\", \"A5\", \"6-Fold astig.    \", 0.0, 0.0, 5, 6))\n",
        "    aberrations.append(aberration(\"C52\", \"S5\", \"5th order star   \", 0.0, 0.0, 5, 2))\n",
        "    aberrations.append(aberration(\"C54\", \"R5\", \"5th order rosette\", 0.0, 0.0, 5, 4))\n",
        "    return aberrations\n",
        "\n",
        "\n",
        "def chi(q, qphi, lam, df=0.0, aberrations=[]):\n",
        "    r\"\"\"\n",
        "    Calculate the aberration function, chi.\n",
        "    Parameters\n",
        "    ----------\n",
        "    q : float or array_like\n",
        "        Reciprocal space extent (Inverse angstroms).\n",
        "    qphi : float or array_like\n",
        "        Azimuth of grid in radians\n",
        "    lam : float\n",
        "        Wavelength of electron (Inverse angstroms).\n",
        "    df : float, optional\n",
        "        Defocus in Angstrom\n",
        "    aberrations : list, optional\n",
        "        A list containing a set of the class aberration, pass an empty list for\n",
        "        an unaberrated contrast transfer function.\n",
        "    Returns\n",
        "    -------\n",
        "    chi : float or array_like\n",
        "        The aberration function, will be the same shape as `q`. This is used to\n",
        "        calculate the probe wave function in reciprocal space.\n",
        "    \"\"\"\n",
        "    qlam = q * lam\n",
        "    chi_ = qlam ** 2 / 2 * df\n",
        "    for ab in aberrations:\n",
        "        chi_ += (\n",
        "            qlam ** (ab.n + 1)\n",
        "            * float(ab.amplitude)\n",
        "            / (ab.n + 1)\n",
        "            * np.cos(ab.m * (qphi - float(ab.angle)))\n",
        "        )\n",
        "    return 2 * np.pi * chi_ / lam\n"
      ],
      "execution_count": null,
      "outputs": []
    },
    {
      "cell_type": "markdown",
      "metadata": {
        "id": "imNUWi_lqMtX"
      },
      "source": [
        "For EELS, the chi function needs to be re-written"
      ]
    },
    {
      "cell_type": "code",
      "metadata": {
        "id": "2TjaBsF5OG2z"
      },
      "source": [
        "def chi_2(q,lam,df=0):\n",
        "    E10=10000\n",
        "    E01=-100\n",
        "    E20=2000\n",
        "    E11=-400\n",
        "    E02=200\n",
        "    E30=0\n",
        "    E12=0\n",
        "    E21=0\n",
        "    E03=0\n",
        "    \n",
        "    '''\n",
        "    In this notation, qlam is a vector, qlam[1] is in x direction (dispersive direction) and qlam[0] is in y direction\n",
        "    '''\n",
        "\n",
        "     # qlam is just theta\n",
        "    x=q[1]*lam # x means thetax\n",
        "    y=q[0]*lam\n",
        "\n",
        "    chi_=0 #initialize with some defocus\n",
        "\n",
        "\n",
        "    chi_=chi_+(E10/2)*x**2 + E01 *x*y +(E20/3) *x**3 + (E11/2)* x**2 *y + E02* x* y**2 + (E30/4)* x**4 + (E12/2)* x**2*y**2 + (E21/3)*x**3*y + E03* x* y**3\n",
        "\n",
        "    return 2 * np.pi * chi_ /lam  \n"
      ],
      "execution_count": null,
      "outputs": []
    },
    {
      "cell_type": "code",
      "metadata": {
        "colab": {
          "base_uri": "https://localhost:8080/"
        },
        "id": "VlLX3dX6CuI4",
        "outputId": "1c301bab-f2f5-48bc-aa05-9c0e43172f2e"
      },
      "source": [
        "print(chi_2([0.01,0.01],0.0002,df=0))"
      ],
      "execution_count": null,
      "outputs": [
        {
          "output_type": "stream",
          "text": [
            "0.0006157523276552078\n"
          ],
          "name": "stdout"
        }
      ]
    },
    {
      "cell_type": "code",
      "metadata": {
        "id": "OW6hZWmn8MQP"
      },
      "source": [
        "def make_contrast_transfer_function_2(\n",
        "    pix_dim,\n",
        "    real_dim,\n",
        "    eV,\n",
        "    app,\n",
        "    optic_axis=[0, 0],\n",
        "    aperture_shift=[0, 0],\n",
        "    tilt_units=\"mrad\",\n",
        "    df=100,\n",
        "    aberrations=[],\n",
        "    q=None,\n",
        "    app_units=\"mrad\",\n",
        "):\n",
        "    \"\"\"\n",
        "    Make an electron lens contrast transfer function.\n",
        "    Parameters\n",
        "    ---------\n",
        "    pix_dim : (2,) int array_like\n",
        "        The pixel size of the grid\n",
        "    real_dim : (2,) float array_like\n",
        "        The size of the grid in Angstrom\n",
        "    eV : float\n",
        "        The energy of the probe electrons in eV\n",
        "    app : float or None\n",
        "        The aperture in units specified by app_units, pass `app` = None for\n",
        "        no aperture\n",
        "    optic_axis : (2,) array_like, optional\n",
        "        allows the user to specify a different optic axis in units specified by\n",
        "        `tilt_units`\n",
        "    aperture_shift : (2,) array_like, optional\n",
        "        Shift of the objective aperture relative to the center of the array\n",
        "    tilt_units : string\n",
        "        Units of the `optic_axis` or `aperture_shift` values, default is mrad\n",
        "    df : float\n",
        "        Probe defocus in A, a negative value indicate overfocus\n",
        "    aberrations : array_like of aberration objects\n",
        "        List containing instances of class aberration\n",
        "    q :\n",
        "        Precomputed reciprocal space array, allows the user to reduce\n",
        "        computation time somewhat\n",
        "    app_units : string\n",
        "        The units of `app` (A^-1 or mrad)\n",
        "    Returns\n",
        "    -------\n",
        "    ctf : array_like\n",
        "        The lens contrast transfer function in reciprocal space\n",
        "    \"\"\"\n",
        "    # Make reciprocal space array\n",
        "    if q is None:\n",
        "        q = q_space_array(pix_dim, real_dim[:2])\n",
        "\n",
        "    # Get  electron wave number (inverse of wavelength)\n",
        "    k = wavev(eV)\n",
        "\n",
        "    # Convert tilts to units of inverse Angstrom                               \n",
        "    optic_axis_ = convert_tilt_angles(\n",
        "        optic_axis, tilt_units, real_dim, eV, invA_out=True\n",
        "    )\n",
        "    aperture_shift_ = convert_tilt_angles(\n",
        "        aperture_shift, tilt_units, real_dim, eV, invA_out=True\n",
        "    )\n",
        "\n",
        "    if app is None:\n",
        "        app_ = np.amax(np.abs(q))\n",
        "    else:\n",
        "        # Get aperture size in units of inverse Angstrom\n",
        "        app_ = convert_tilt_angles(app, app_units, real_dim, eV, invA_out=True)\n",
        "\n",
        "    # Initialize the array to contain the CTF\n",
        "    CTF = np.zeros(pix_dim, dtype=np.complex)\n",
        "\n",
        "    # Calculate the magnitude of the reciprocal lattice grid\n",
        "    # qarray1 accounts for a shift of the optic axis\n",
        "    qarray1 = np.sqrt(\n",
        "        np.square(q[0] - optic_axis_[0]) + np.square(q[1] - optic_axis_[1])\n",
        "    )\n",
        "\n",
        "    # qarray2 accounts for a shift of both the optic axis and the aperture                Is the square root missing?\n",
        "    qarray2 = np.sqrt(np.square(q[0] - optic_axis_[0] - aperture_shift_[0]) + np.square(                 #  tilt optic axis and shift aperture are equivalent\n",
        "        q[1] - optic_axis_[1] - aperture_shift_[1]))\n",
        "\n",
        "    # Calculate azimuth of reciprocal space array in case it is required for\n",
        "    # aberrations\n",
        "    qphi = np.arctan2(q[0] - optic_axis_[0], q[1] - optic_axis_[1])\n",
        "\n",
        "    # Only calculate CTF for region within the aperture\n",
        "    mask = qarray2 <= app_ \n",
        "    \n",
        "    print(q[0].shape)\n",
        "\n",
        "    print(mask)\n",
        "\n",
        "    print('normalization constant')\n",
        "    print(np.count_nonzero(mask))\n",
        "\n",
        "    print('qarray shape')\n",
        "    print(qarray1.shape)\n",
        "    print(np.array(q[0][mask]).shape)\n",
        "\n",
        "    # print(np.where(mask2==1)[1][:].shape)\n",
        "    print('what is up')\n",
        "    CTF[mask] = np.exp(-1j *chi_2([np.array(q[0][mask]),np.array(q[1][mask])],1.0 / k,df=0)) # confused with the sign convention here it seems that the minus sign is consistent with FFT with exp(+i2pix)\n",
        "    print(CTF.shape)\n",
        "    return CTF"
      ],
      "execution_count": null,
      "outputs": []
    },
    {
      "cell_type": "markdown",
      "metadata": {
        "id": "rNOcz91X9Uii"
      },
      "source": [
        "End of make_contrast_function_2"
      ]
    },
    {
      "cell_type": "code",
      "metadata": {
        "id": "CskC7H84qJt5"
      },
      "source": [
        "def chi(q, qphi, lam, df=0.0, aberrations=[]):\n",
        "    r\"\"\"\n",
        "    Calculate the aberration function, chi.\n",
        "    Parameters\n",
        "    ----------\n",
        "    q : float or array_like\n",
        "        Reciprocal space extent (Inverse angstroms).\n",
        "    qphi : float or array_like\n",
        "        Azimuth of grid in radians\n",
        "    lam : float\n",
        "        Wavelength of electron (Inverse angstroms).\n",
        "    df : float, optional\n",
        "        Defocus in Angstrom\n",
        "    aberrations : list, optional\n",
        "        A list containing a set of the class aberration, pass an empty list for\n",
        "        an unaberrated contrast transfer function.\n",
        "    Returns\n",
        "    -------\n",
        "    chi : float or array_like\n",
        "        The aberration function, will be the same shape as `q`. This is used to\n",
        "        calculate the probe wave function in reciprocal space.\n",
        "    \"\"\"\n",
        "    qlam = q * lam # dimensionless\n",
        "    chi_ = qlam ** 2 / 2 * df\n",
        "    print(aberrations[2].n)\n",
        "    print(aberrations[2].amplitude)\n",
        "\n",
        "    for ab in aberrations:\n",
        "        chi_ += (\n",
        "            qlam ** (ab.n + 1)\n",
        "            * float(ab.amplitude)\n",
        "            / (ab.n + 1)\n",
        "            * np.cos(ab.m * (qphi - float(ab.angle)))\n",
        "        )\n",
        "    return 2 * np.pi * chi_ / lam    "
      ],
      "execution_count": null,
      "outputs": []
    },
    {
      "cell_type": "code",
      "metadata": {
        "colab": {
          "base_uri": "https://localhost:8080/"
        },
        "id": "FPQaNDfrG698",
        "outputId": "e8ef4801-30a4-4880-df29-2286685cc0a0"
      },
      "source": [
        "chi_result=chi(0.01,0.01,0.0025,1,aberrations=aberration_starter_pack())\n",
        "print(chi_result)"
      ],
      "execution_count": null,
      "outputs": [
        {
          "output_type": "stream",
          "text": [
            "2\n",
            "0.0\n",
            "7.948740690178739e-07\n"
          ],
          "name": "stdout"
        }
      ]
    },
    {
      "cell_type": "code",
      "metadata": {
        "id": "OTM6aS6I4FeA"
      },
      "source": [
        "def make_contrast_transfer_function(\n",
        "    pix_dim,\n",
        "    real_dim,\n",
        "    eV,\n",
        "    app,\n",
        "    optic_axis=[0, 0],\n",
        "    aperture_shift=[0, 0],\n",
        "    tilt_units=\"mrad\",\n",
        "    df=100,\n",
        "    aberrations=[],\n",
        "    q=None,\n",
        "    app_units=\"mrad\",\n",
        "):\n",
        "    \"\"\"\n",
        "    Make an electron lens contrast transfer function.\n",
        "    Parameters\n",
        "    ---------\n",
        "    pix_dim : (2,) int array_like\n",
        "        The pixel size of the grid\n",
        "    real_dim : (2,) float array_like\n",
        "        The size of the grid in Angstrom\n",
        "    eV : float\n",
        "        The energy of the probe electrons in eV\n",
        "    app : float or None\n",
        "        The aperture in units specified by app_units, pass `app` = None for\n",
        "        no aperture\n",
        "    optic_axis : (2,) array_like, optional\n",
        "        allows the user to specify a different optic axis in units specified by\n",
        "        `tilt_units`\n",
        "    aperture_shift : (2,) array_like, optional\n",
        "        Shift of the objective aperture relative to the center of the array\n",
        "    tilt_units : string\n",
        "        Units of the `optic_axis` or `aperture_shift` values, default is mrad\n",
        "    df : float\n",
        "        Probe defocus in A, a negative value indicate overfocus\n",
        "    aberrations : array_like of aberration objects\n",
        "        List containing instances of class aberration\n",
        "    q :\n",
        "        Precomputed reciprocal space array, allows the user to reduce\n",
        "        computation time somewhat\n",
        "    app_units : string\n",
        "        The units of `app` (A^-1 or mrad)\n",
        "    Returns\n",
        "    -------\n",
        "    ctf : array_like\n",
        "        The lens contrast transfer function in reciprocal space\n",
        "    \"\"\"\n",
        "    # Make reciprocal space array\n",
        "    if q is None:\n",
        "        q = q_space_array(pix_dim, real_dim[:2])\n",
        "\n",
        "    # Get  electron wave number (inverse of wavelength)\n",
        "    k = wavev(eV)\n",
        "\n",
        "    # Convert tilts to units of inverse Angstrom                               \n",
        "    optic_axis_ = convert_tilt_angles(\n",
        "        optic_axis, tilt_units, real_dim, eV, invA_out=True\n",
        "    )\n",
        "    aperture_shift_ = convert_tilt_angles(\n",
        "        aperture_shift, tilt_units, real_dim, eV, invA_out=True\n",
        "    )\n",
        "\n",
        "    if app is None:\n",
        "        app_ = np.amax(np.abs(q))\n",
        "    else:\n",
        "        # Get aperture size in units of inverse Angstrom\n",
        "        app_ = convert_tilt_angles(app, app_units, real_dim, eV, invA_out=True)\n",
        "\n",
        "    # Initialize the array to contain the CTF\n",
        "    CTF = np.zeros(pix_dim, dtype=np.complex)\n",
        "\n",
        "    # Calculate the magnitude of the reciprocal lattice grid\n",
        "    # qarray1 accounts for a shift of the optic axis\n",
        "    qarray1 = np.sqrt(\n",
        "        np.square(q[0] - optic_axis_[0]) + np.square(q[1] - optic_axis_[1])\n",
        "    )\n",
        "\n",
        "    # qarray2 accounts for a shift of both the optic axis and the aperture                Is the square root missing?\n",
        "    qarray2 = np.sqrt(np.square(q[0] - optic_axis_[0] - aperture_shift_[0]) + np.square(                 #  tilt optic axis and shift aperture are equivalent\n",
        "        q[1] - optic_axis_[1] - aperture_shift_[1]))\n",
        "\n",
        "    # Calculate azimuth of reciprocal space array in case it is required for\n",
        "    # aberrations\n",
        "    qphi = np.arctan2(q[0] - optic_axis_[0], q[1] - optic_axis_[1])\n",
        "\n",
        "    # Only calculate CTF for region within the aperture\n",
        "    mask = qarray2 <= app_ \n",
        "    plt.imshow(mask)\n",
        "    print('mask shape')\n",
        "    print(mask[mask].shape)\n",
        "    print('normalization constant')\n",
        "    print(np.count_nonzero(mask))\n",
        "    plt.colorbar()\n",
        "    print('qarray2 shape')\n",
        "    print(qarray2.shape)\n",
        "    print('masked qarray2 shape')\n",
        "    print(qarray2[mask].shape)\n",
        "    print(qarray2[mask].min(),qarray1.min())\n",
        "    CTF[mask] = np.exp(-1j * chi(qarray2[mask], qphi[mask], 1.0 / k, df, aberrations)) # confused with the sign convention here it seems that the minus sign is consistent with FFT with exp(+i2pix)\n",
        "    return CTF\n",
        "\n",
        "\n",
        "def focused_probe(\n",
        "    gridshape,\n",
        "    rsize,\n",
        "    eV,\n",
        "    app,\n",
        "    beam_tilt=[0, 0],\n",
        "    aperture_shift=[0, 0],\n",
        "    tilt_units=\"mrad\",\n",
        "    df=0,\n",
        "    aberrations=[],\n",
        "    q=None,\n",
        "    app_units=\"mrad\",\n",
        "    qspace=False,\n",
        "):\n",
        "    \"\"\"\n",
        "    Make a focused electron probe wave function.\n",
        "    Parameters\n",
        "    ---------\n",
        "    gridshape : (2,) array_like\n",
        "        The pixel size of the grid\n",
        "    rsize : (2,) array_like\n",
        "        The size of the grid in Angstrom\n",
        "    eV : float\n",
        "        The energy of the probe electrons in electron volts\n",
        "    app : float\n",
        "        The probe-forming apperture in units specified by app_units, pass None\n",
        "        if no probe forming aperture is to be used\n",
        "    beam_tilt : array_like, optional\n",
        "        Allows the user to simulate a (small < 50 mrad) beam tilt. To maintain\n",
        "        periodicity of the wave function at the boundaries this tilt is rounded\n",
        "        to the nearest pixel value.\n",
        "    aperture_shift : array_like, optional\n",
        "        Allows the user to simulate a (small < 50 mrad) aperture shift. To\n",
        "        maintain periodicity of the wave function at the boundaries this tilt\n",
        "        is rounded to the nearest pixel value.\n",
        "    tilt_units : string, optional\n",
        "        Units of beam tilt and aperture shift, can be 'mrad','pixels' or 'invA'\n",
        "    df : float, optional\n",
        "        Probe defocus in A, a negative value indicate overfocus\n",
        "    aberrations : list, optional\n",
        "        A list of of probe aberrations of class pyms.Probe.aberration, pass an\n",
        "        empty list for an un-aberrated probe\n",
        "    app_units : string, optional\n",
        "        The units of the aperture size (\"invA\", \"pixels\" or \"mrad\")\n",
        "    qspace : bool, optional\n",
        "        If True return the probe in reciprocal space\n",
        "    Returns\n",
        "    -------\n",
        "    probe : complex (Y,X) np.ndarray\n",
        "        The requested electron probe wave function\n",
        "    \"\"\"\n",
        "    probe = make_contrast_transfer_function(\n",
        "        gridshape,\n",
        "        rsize,\n",
        "        eV,\n",
        "        app,\n",
        "        beam_tilt,\n",
        "        aperture_shift,\n",
        "        tilt_units,\n",
        "        df,\n",
        "        aberrations,\n",
        "        q,\n",
        "        app_units,\n",
        "    )\n",
        "\n",
        "    # Normalize the STEM probe so that its sum-squared intensity is unity\n",
        "    probe *= np.sqrt(np.prod(gridshape)) / np.sqrt(np.sum(np.square(np.abs(probe))))\n",
        "\n",
        "    # Return real or diffraction space probe depending on user preference\n",
        "    if not qspace:\n",
        "        return np.fft.ifft2(probe)\n",
        "    return probe\n",
        "\n",
        "\n",
        "def plane_wave_illumination(\n",
        "    gridshape, gridsize, eV, tilt=[-10, -10], tilt_units=\"mrad\", qspace=False\n",
        "):\n",
        "    \"\"\"\n",
        "    Generate plane wave illumination for input to multislice.\n",
        "    The wave function will be normalized such that sum of intensity is unity in\n",
        "    real space.\n",
        "    Parameters\n",
        "    ----------\n",
        "    gridshape : (2,) array_like\n",
        "        Pixel dimensions of the 2D grid\n",
        "    gridsize : (2,) array_like\n",
        "        Size of the grid in real space\n",
        "    eV : float\n",
        "        Probe energy in electron volts (irrelevant for untilted illumination)\n",
        "    tilt : array_like, optional\n",
        "        Allows the user to simulate a (small < 50 mrad) beam tilt, To maintain\n",
        "        periodicity of the wave function at the boundaries this tilt is rounded\n",
        "        to the nearest pixel value.\n",
        "    tilt_units : string, optional\n",
        "        Units of beam tilt, can be 'mrad','pixels' or 'invA'\n",
        "    qspace : bool, optional\n",
        "        Pass qspace = True to get the probe in momentum (q) space\n",
        "    Returns\n",
        "    ------\n",
        "    illum : np.ndarray (Y,X)\n",
        "    \"\"\"\n",
        "    # Initialize array that contains wave function\n",
        "    illum = np.zeros(gridshape, dtype=np.complex)\n",
        "\n",
        "    # Convert tilt to units of pixels\n",
        "    tilt_ = convert_tilt_angles(tilt, tilt_units, gridsize, eV)\n",
        "\n",
        "    # Case of an untilted plane wave (phase is zero everywhere)\n",
        "    if tilt[0] == 0 and tilt[1] == 0:\n",
        "        illum[:, :] = 1 / np.sqrt(np.product(gridshape))\n",
        "\n",
        "        if qspace:\n",
        "            return np.fft.fft2(illum)\n",
        "        else:\n",
        "            return illum\n",
        "\n",
        "    # Set the value of wavefunction amplitude such that after inverse Fourier\n",
        "    # transform (and resulting division by the total number of pixels) the sum\n",
        "    # of intensity will be 1\n",
        "    illum[tilt_[0], tilt_[1]] = np.sqrt(np.product(gridshape))\n",
        "\n",
        "    # Return wave function in real space\n",
        "    if qspace:\n",
        "        return illum\n",
        "    else:\n",
        "        return np.fft.ifft2(illum)\n",
        "\n",
        "\n",
        "def wavev(E):\n",
        "    \"\"\"\n",
        "    Evaluate the relativistically corrected wavenumber of an electron with energy E.\n",
        "    Energy E must be in electron-volts, see Eq. (2.5) in Kirkland's Advanced\n",
        "    Computing in electron microscopy\n",
        "    \"\"\"\n",
        "    # Planck's constant times speed of light in eV Angstrom\n",
        "    hc = 1.23984193e4\n",
        "    # Electron rest mass in eV\n",
        "    m0c2 = 5.109989461e5\n",
        "    return np.sqrt(E * (E + 2 * m0c2)) / hc\n",
        "\n",
        "\n",
        "def relativistic_mass_correction(E):\n",
        "    \"\"\"\n",
        "    Evaluate the relativistic mass correction for electron with energy E in eV.\n",
        "    See Eq. (2.2) in Kirkland's Advanced Computing in electron microscopy.\n",
        "    \"\"\"\n",
        "    # Electron rest mass in eV\n",
        "    m0c2 = 5.109989461e5\n",
        "    return (m0c2 + E) / m0c2"
      ],
      "execution_count": null,
      "outputs": []
    },
    {
      "cell_type": "code",
      "metadata": {
        "id": "DjpVGlOSN8C7"
      },
      "source": [
        "def convert_tilt_angles(tilt, tilt_units, rsize, eV, invA_out=False):\n",
        "    \"\"\"\n",
        "    Convert  tilt to pixel or inverse Angstroms units regardless of input units.\n",
        "    Input units can be mrad, pixels or inverse Angstrom\n",
        "    Parameters\n",
        "    ----------\n",
        "    tilt : array_like\n",
        "        Tilt in units of mrad, pixels or inverse Angstrom\n",
        "    tilt_units : string\n",
        "        Units of specimen and beam tilt, can be 'mrad','pixels' or 'invA'\n",
        "    rsize : (2,) array_like\n",
        "        The size of the grid in Angstrom\n",
        "    eV : float\n",
        "        Probe energy in electron volts\n",
        "    invA_out : bool\n",
        "        Pass True if inverse Angstrom units are desired.\n",
        "    \"\"\"\n",
        "    # If units of the tilt are given in mrad, convert to inverse Angstrom\n",
        "    if tilt_units == \"mrad\":\n",
        "        k = wavev(eV)\n",
        "        tilt_ = np.asarray(tilt) * 1e-3 * k\n",
        "    else:\n",
        "        tilt_ = tilt\n",
        "\n",
        "    # If inverse Angstroms are requested our work here is done\n",
        "    if invA_out:\n",
        "        return tilt_\n",
        "\n",
        "    # Convert inverse Angstrom to pixel coordinates, this will be rounded\n",
        "    # to the nearest pixel\n",
        "    if tilt_units != \"pixels\":\n",
        "        tilt_ = np.round(tilt_ * rsize[:2]).astype(int)\n",
        "    return tilt_"
      ],
      "execution_count": null,
      "outputs": []
    },
    {
      "cell_type": "code",
      "metadata": {
        "colab": {
          "base_uri": "https://localhost:8080/",
          "height": 34
        },
        "id": "8lrxShYMKaPE",
        "outputId": "08a82243-80eb-464f-d46e-9ddb8322f9b7"
      },
      "source": [
        "plt.set_cmap('gray')"
      ],
      "execution_count": null,
      "outputs": [
        {
          "output_type": "display_data",
          "data": {
            "text/plain": [
              "<Figure size 432x288 with 0 Axes>"
            ]
          },
          "metadata": {
            "tags": []
          }
        }
      ]
    },
    {
      "cell_type": "code",
      "metadata": {
        "id": "CkLfgcYaFVfc"
      },
      "source": [
        "real_dim=[51.2,51.2]"
      ],
      "execution_count": null,
      "outputs": []
    },
    {
      "cell_type": "code",
      "metadata": {
        "colab": {
          "base_uri": "https://localhost:8080/"
        },
        "id": "XeXRZ6yOFbTF",
        "outputId": "c1e50034-4ada-4886-aaa4-0eac425b1ac6"
      },
      "source": [
        "real_dim[:2]"
      ],
      "execution_count": null,
      "outputs": [
        {
          "output_type": "execute_result",
          "data": {
            "text/plain": [
              "[51.2, 51.2]"
            ]
          },
          "metadata": {
            "tags": []
          },
          "execution_count": 16
        }
      ]
    },
    {
      "cell_type": "code",
      "metadata": {
        "id": "kfRX-NbKJjn1",
        "colab": {
          "base_uri": "https://localhost:8080/"
        },
        "outputId": "7e2e2aa6-58fd-41a2-ced8-2d59b3c05f2b"
      },
      "source": [
        "Transfer_function=make_contrast_transfer_function(pix_dim=[256,256],real_dim=[51.2,51.2],eV=6e4,app=30,optic_axis=[0,0],aperture_shift=[0,0],tilt_units='mrad',df=0,aberrations=aberration_starter_pack(),q=None,app_units='mrad')"
      ],
      "execution_count": null,
      "outputs": [
        {
          "output_type": "stream",
          "text": [
            "mask shape\n",
            "(3125,)\n",
            "normalization constant\n",
            "3125\n",
            "qarray2 shape\n",
            "(256, 256)\n",
            "masked qarray2 shape\n",
            "(3125,)\n",
            "0.0 0.0\n",
            "2\n",
            "0.0\n"
          ],
          "name": "stdout"
        },
        {
          "output_type": "display_data",
          "data": {
            "image/png": "[encoded data removed]",
            "text/plain": [
              "<Figure size 432x288 with 2 Axes>"
            ]
          },
          "metadata": {
            "tags": [],
            "needs_background": "light"
          }
        }
      ]
    },
    {
      "cell_type": "code",
      "metadata": {
        "colab": {
          "base_uri": "https://localhost:8080/"
        },
        "id": "rI6bajl2RBOI",
        "outputId": "0cebd119-c794-42e2-c7e4-80c61e1e350c"
      },
      "source": [
        "Transfer_function_shift=np.fft.fftshift(Transfer_function)\n",
        "Transfer_function_shift.shape"
      ],
      "execution_count": null,
      "outputs": [
        {
          "output_type": "execute_result",
          "data": {
            "text/plain": [
              "(256, 256)"
            ]
          },
          "metadata": {
            "tags": []
          },
          "execution_count": 18
        }
      ]
    },
    {
      "cell_type": "code",
      "metadata": {
        "colab": {
          "base_uri": "https://localhost:8080/"
        },
        "id": "_bc0Q76AN-RK",
        "outputId": "10b17166-efc5-42b6-85e2-3c55f3230f50"
      },
      "source": [
        "Transfer_function.shape\n",
        "print(Transfer_function)\n",
        "plt.imshow(abs(Transfer_function_shift))\n",
        "plt.colorbar()"
      ],
      "execution_count": null,
      "outputs": [
        {
          "output_type": "stream",
          "text": [
            "[[1.        -0.00000000e+00j 1.        -2.85742815e-05j\n",
            "  0.99999997-2.28594250e-04j ... 0.9999997 +7.71505525e-04j\n",
            "  0.99999997+2.28594250e-04j 1.        +2.85742815e-05j]\n",
            " [0.99999998+1.82522286e-04j 0.99999995+3.07896005e-04j\n",
            "  0.9999998 +6.26868577e-04j ... 0.9999964 +2.68244810e-03j\n",
            "  0.99999928+1.19835396e-03j 0.99999991+4.22193124e-04j]\n",
            " [0.99999893+1.46017777e-03j 0.99999858+1.68235067e-03j\n",
            "  0.99999697+2.46316559e-03j ... 0.99998283+5.85994289e-03j\n",
            "  0.9999943 +3.37753867e-03j 0.99999806+1.96809300e-03j]\n",
            " ...\n",
            " [0.99998786-4.92808179e-03j 0.9999834 -5.76137954e-03j\n",
            "  0.9999691 -7.86121953e-03j ... 0.99996545-8.31309652e-03j\n",
            "  0.99997968-6.37539467e-03j 0.99998653-5.18990248e-03j]\n",
            " [0.99999893-1.46017777e-03j 0.99999806-1.96809300e-03j\n",
            "  0.9999943 -3.37753867e-03j ... 0.99999341-3.63117449e-03j\n",
            "  0.99999697-2.46316559e-03j 0.99999858-1.68235067e-03j]\n",
            " [0.99999998-1.82522286e-04j 0.99999991-4.22193124e-04j\n",
            "  0.99999928-1.19835396e-03j ... 0.99999953-9.67994269e-04j\n",
            "  0.9999998 -6.26868577e-04j 0.99999995-3.07896005e-04j]]\n"
          ],
          "name": "stdout"
        },
        {
          "output_type": "execute_result",
          "data": {
            "text/plain": [
              "<matplotlib.colorbar.Colorbar at 0x7f38ff7f0e50>"
            ]
          },
          "metadata": {
            "tags": []
          },
          "execution_count": 19
        },
        {
          "output_type": "display_data",
          "data": {
            "image/png": "[encoded data removed]",
            "text/plain": [
              "<Figure size 432x288 with 2 Axes>"
            ]
          },
          "metadata": {
            "tags": [],
            "needs_background": "light"
          }
        }
      ]
    },
    {
      "cell_type": "markdown",
      "metadata": {
        "id": "_IlsaIXVv75S"
      },
      "source": [
        "### To calculate the EELS, just Fourier transform the contrast transfer function into real space in one dimension\n",
        "See projection-slice theorem from https://en.wikipedia.org/wiki/Projection-slice_theorem"
      ]
    },
    {
      "cell_type": "markdown",
      "metadata": {
        "id": "ipp1zEEFACRA"
      },
      "source": [
        ""
      ]
    },
    {
      "cell_type": "code",
      "metadata": {
        "colab": {
          "base_uri": "https://localhost:8080/",
          "height": 286
        },
        "id": "cXRf19vSIInb",
        "outputId": "d7fe093a-751a-4d58-847e-b88df13c987f"
      },
      "source": [
        "plt.set_cmap('gray')\n",
        "EELS_Transfer_function_real=np.fft.fftshift(np.fft.fft(Transfer_function,axis=-1)) # although this should be a Forward FFT, the sign convention tries to follow Kirkland's book which has the opposite sign for FFT in numpy\n",
        "I_EELS_real=EELS_Transfer_function_real*np.conjugate(EELS_Transfer_function_real) # can be dived by the \n",
        "plt.imshow(abs(I_EELS_real))\n",
        "plt.colorbar()"
      ],
      "execution_count": null,
      "outputs": [
        {
          "output_type": "execute_result",
          "data": {
            "text/plain": [
              "<matplotlib.colorbar.Colorbar at 0x7f38ff738ad0>"
            ]
          },
          "metadata": {
            "tags": []
          },
          "execution_count": 20
        },
        {
          "output_type": "display_data",
          "data": {
            "image/png": "[encoded data removed]",
            "text/plain": [
              "<Figure size 432x288 with 2 Axes>"
            ]
          },
          "metadata": {
            "tags": [],
            "needs_background": "light"
          }
        }
      ]
    },
    {
      "cell_type": "markdown",
      "metadata": {
        "id": "4_MEGviNSoKG"
      },
      "source": [
        "Gaussian smooth to account for partial coherence?"
      ]
    },
    {
      "cell_type": "code",
      "metadata": {
        "colab": {
          "base_uri": "https://localhost:8080/"
        },
        "id": "9zAIrcaiSlkj",
        "outputId": "83b821f3-f2f5-43c8-921f-6110d70eebc9"
      },
      "source": [
        "import scipy.ndimage\n",
        "plt.imshow(scipy.ndimage.gaussian_filter(abs(I_EELS_real),sigma=3))"
      ],
      "execution_count": null,
      "outputs": [
        {
          "output_type": "execute_result",
          "data": {
            "text/plain": [
              "<matplotlib.image.AxesImage at 0x7f38ff721b90>"
            ]
          },
          "metadata": {
            "tags": []
          },
          "execution_count": 21
        },
        {
          "output_type": "display_data",
          "data": {
            "image/png": "[encoded data removed]",
            "text/plain": [
              "<Figure size 432x288 with 1 Axes>"
            ]
          },
          "metadata": {
            "tags": [],
            "needs_background": "light"
          }
        }
      ]
    },
    {
      "cell_type": "markdown",
      "metadata": {
        "id": "-1cmrRioAtA2"
      },
      "source": [
        "If there's no aberration, tilting the beam doesn't move the beam in x direction but only in y"
      ]
    },
    {
      "cell_type": "markdown",
      "metadata": {
        "id": "s9fgpunCzYiI"
      },
      "source": [
        "Summed intensity profile of ZLP"
      ]
    },
    {
      "cell_type": "code",
      "metadata": {
        "colab": {
          "base_uri": "https://localhost:8080/",
          "height": 316
        },
        "id": "JV1D5Hioxdwj",
        "outputId": "fb193b24-8bde-440a-be24-ee2ebe7fc912"
      },
      "source": [
        "plt.plot(np.sum(I_EELS_real,axis=0))"
      ],
      "execution_count": null,
      "outputs": [
        {
          "output_type": "stream",
          "text": [
            "/usr/local/lib/python3.7/dist-packages/numpy/core/_asarray.py:83: ComplexWarning: Casting complex values to real discards the imaginary part\n",
            "  return array(a, dtype, copy=False, order=order)\n"
          ],
          "name": "stderr"
        },
        {
          "output_type": "execute_result",
          "data": {
            "text/plain": [
              "[<matplotlib.lines.Line2D at 0x7f38fea8d650>]"
            ]
          },
          "metadata": {
            "tags": []
          },
          "execution_count": 22
        },
        {
          "output_type": "display_data",
          "data": {
            "image/png": "[encoded data removed]",
            "text/plain": [
              "<Figure size 432x288 with 1 Axes>"
            ]
          },
          "metadata": {
            "tags": [],
            "needs_background": "light"
          }
        }
      ]
    },
    {
      "cell_type": "code",
      "metadata": {
        "colab": {
          "base_uri": "https://localhost:8080/"
        },
        "id": "TDDWGyYuyj9h",
        "outputId": "c6887395-0b05-43cf-ed73-346d14a1727a"
      },
      "source": [
        "plt.imshow(np.imag(I_EELS_real))\n",
        "print(np.imag(I_EELS_real).max())\n",
        "# it looks that the intensity is truely real! no imaginary part"
      ],
      "execution_count": null,
      "outputs": [
        {
          "output_type": "stream",
          "text": [
            "0.0\n"
          ],
          "name": "stdout"
        },
        {
          "output_type": "display_data",
          "data": {
            "image/png": "[encoded data removed]",
            "text/plain": [
              "<Figure size 432x288 with 1 Axes>"
            ]
          },
          "metadata": {
            "tags": [],
            "needs_background": "light"
          }
        }
      ]
    },
    {
      "cell_type": "markdown",
      "metadata": {
        "id": "AbORfht9vpCp"
      },
      "source": [
        "Transfer function in real space (Probe shape)"
      ]
    },
    {
      "cell_type": "markdown",
      "metadata": {
        "id": "c5YHB2_FAdSW"
      },
      "source": [
        "Tilting the beam doesn't move the probe in real space if there's not aberration"
      ]
    },
    {
      "cell_type": "code",
      "metadata": {
        "colab": {
          "base_uri": "https://localhost:8080/",
          "height": 286
        },
        "id": "V-5Bvy7Td9zF",
        "outputId": "5633f556-8511-42f0-dd45-fb753b7d599f"
      },
      "source": [
        "plt.set_cmap('gray')\n",
        "Transfer_function_real=np.fft.fftshift(np.fft.ifft2(Transfer_function))\n",
        "plt.imshow(abs(Transfer_function_real))\n"
      ],
      "execution_count": null,
      "outputs": [
        {
          "output_type": "execute_result",
          "data": {
            "text/plain": [
              "<matplotlib.image.AxesImage at 0x7f38fea2f750>"
            ]
          },
          "metadata": {
            "tags": []
          },
          "execution_count": 24
        },
        {
          "output_type": "display_data",
          "data": {
            "image/png": "[encoded data removed]",
            "text/plain": [
              "<Figure size 432x288 with 1 Axes>"
            ]
          },
          "metadata": {
            "tags": [],
            "needs_background": "light"
          }
        }
      ]
    },
    {
      "cell_type": "code",
      "metadata": {
        "colab": {
          "base_uri": "https://localhost:8080/",
          "height": 286
        },
        "id": "WJyjOZUqH_xE",
        "outputId": "f61f3301-ef82-49fb-8fc0-0227ad6cef4b"
      },
      "source": [
        "I_real=Transfer_function_real*np.conjugate(Transfer_function_real)\n",
        "plt.imshow(abs(I_real),vmax=0.0001)\n",
        "plt.colorbar()\n"
      ],
      "execution_count": null,
      "outputs": [
        {
          "output_type": "execute_result",
          "data": {
            "text/plain": [
              "<matplotlib.colorbar.Colorbar at 0x7f38fe982290>"
            ]
          },
          "metadata": {
            "tags": []
          },
          "execution_count": 25
        },
        {
          "output_type": "display_data",
          "data": {
            "image/png": "[encoded data removed]",
            "text/plain": [
              "<Figure size 432x288 with 2 Axes>"
            ]
          },
          "metadata": {
            "tags": [],
            "needs_background": "light"
          }
        }
      ]
    },
    {
      "cell_type": "code",
      "metadata": {
        "colab": {
          "base_uri": "https://localhost:8080/",
          "height": 298
        },
        "id": "Q9Obth2ZeXfr",
        "outputId": "3b4248bf-488c-4599-cf18-ec6bb01dc84b"
      },
      "source": [
        "plt.plot(abs(Transfer_function_real[127,:]))\n",
        "plt.title('Line profile')"
      ],
      "execution_count": null,
      "outputs": [
        {
          "output_type": "execute_result",
          "data": {
            "text/plain": [
              "Text(0.5, 1.0, 'Line profile')"
            ]
          },
          "metadata": {
            "tags": []
          },
          "execution_count": 26
        },
        {
          "output_type": "display_data",
          "data": {
            "image/png": "[encoded data removed]",
            "text/plain": [
              "<Figure size 432x288 with 1 Axes>"
            ]
          },
          "metadata": {
            "tags": [],
            "needs_background": "light"
          }
        }
      ]
    },
    {
      "cell_type": "code",
      "metadata": {
        "id": "f2__oMxdSCZD"
      },
      "source": [
        ""
      ],
      "execution_count": null,
      "outputs": []
    },
    {
      "cell_type": "markdown",
      "metadata": {
        "id": "gH_Jb5pgzKHt"
      },
      "source": [
        "Use the aberration coefficients for EELS"
      ]
    },
    {
      "cell_type": "code",
      "metadata": {
        "colab": {
          "base_uri": "https://localhost:8080/"
        },
        "id": "szobzCb3yOtF",
        "outputId": "4022a8cd-9bfa-4d2f-9cd4-55d10f04eb9c"
      },
      "source": [
        "Transfer_function_2=make_contrast_transfer_function_2(pix_dim=[2048,2048],real_dim=[26.1,4136.96],eV=6e4,app=30,optic_axis=[0,0],aperture_shift=[0,0],tilt_units='mrad',df=0,aberrations=aberration_starter_pack(),q=None,app_units='mrad')"
      ],
      "execution_count": null,
      "outputs": [
        {
          "output_type": "stream",
          "text": [
            "(2048, 2048)\n",
            "[[ True  True  True ...  True  True  True]\n",
            " [ True  True  True ...  True  True  True]\n",
            " [ True  True  True ...  True  True  True]\n",
            " ...\n",
            " [ True  True  True ...  True  True  True]\n",
            " [ True  True  True ...  True  True  True]\n",
            " [ True  True  True ...  True  True  True]]\n",
            "normalization constant\n",
            "64168\n",
            "qarray shape\n",
            "(2048, 2048)\n",
            "(64168,)\n",
            "what is up\n",
            "(2048, 2048)\n"
          ],
          "name": "stdout"
        }
      ]
    },
    {
      "cell_type": "code",
      "metadata": {
        "id": "8Mpv3GH_EmMv",
        "colab": {
          "base_uri": "https://localhost:8080/"
        },
        "outputId": "ead236b7-380b-4393-85dc-0c486687572c"
      },
      "source": [
        "Transfer_function2_shift=np.fft.fftshift(Transfer_function_2)\n",
        "Transfer_function2_shift.shape\n",
        "print(Transfer_function_2.dtype)\n",
        "# plt.imshow(abs(Transfer_function2_shift))\n",
        "# plt.colorbar()"
      ],
      "execution_count": null,
      "outputs": [
        {
          "output_type": "stream",
          "text": [
            "complex128\n"
          ],
          "name": "stdout"
        }
      ]
    },
    {
      "cell_type": "code",
      "metadata": {
        "id": "DpZR450mFLd4",
        "colab": {
          "base_uri": "https://localhost:8080/",
          "height": 159
        },
        "outputId": "6d89ae14-09ed-44ac-859e-1e981a6f6a5b"
      },
      "source": [
        "plt.set_cmap('gray')\n",
        "EELS_Transfer_function_real_2=np.fft.fftshift(np.fft.fft(Transfer_function_2,axis=-1)) # although this should be a Forward FFT, the sign convention tries to follow Kirkland's book which has the opposite sign for FFT in numpy\n",
        "I_EELS_real_2=EELS_Transfer_function_real_2*np.conjugate(EELS_Transfer_function_real_2) # can be dived by the \n",
        "plt.figure(figsize=(50,100))\n",
        "plt.imshow(abs(I_EELS_real_2)[975:1075,:])\n",
        "# plt.colorbar()\n"
      ],
      "execution_count": null,
      "outputs": [
        {
          "output_type": "execute_result",
          "data": {
            "text/plain": [
              "<matplotlib.image.AxesImage at 0x7f38fe92fd90>"
            ]
          },
          "metadata": {
            "tags": []
          },
          "execution_count": 29
        },
        {
          "output_type": "display_data",
          "data": {
            "text/plain": [
              "<Figure size 432x288 with 0 Axes>"
            ]
          },
          "metadata": {
            "tags": []
          }
        },
        {
          "output_type": "display_data",
          "data": {
            "image/png": "[encoded data removed]",
            "text/plain": [
              "<Figure size 3600x7200 with 1 Axes>"
            ]
          },
          "metadata": {
            "tags": [],
            "needs_background": "light"
          }
        }
      ]
    },
    {
      "cell_type": "code",
      "metadata": {
        "colab": {
          "base_uri": "https://localhost:8080/"
        },
        "id": "7zGH9ED3_Q6C",
        "outputId": "a5bbf8d4-a8b4-457c-d120-fdc0c10f70ca"
      },
      "source": [
        " plt.plot(np.sum(I_EELS_real_2,axis=0))"
      ],
      "execution_count": null,
      "outputs": [
        {
          "output_type": "stream",
          "text": [
            "/usr/local/lib/python3.7/dist-packages/numpy/core/_asarray.py:83: ComplexWarning: Casting complex values to real discards the imaginary part\n",
            "  return array(a, dtype, copy=False, order=order)\n"
          ],
          "name": "stderr"
        },
        {
          "output_type": "execute_result",
          "data": {
            "text/plain": [
              "[<matplotlib.lines.Line2D at 0x7f38fe865ed0>]"
            ]
          },
          "metadata": {
            "tags": []
          },
          "execution_count": 30
        },
        {
          "output_type": "display_data",
          "data": {
            "image/png": "[encoded data removed]",
            "text/plain": [
              "<Figure size 432x288 with 1 Axes>"
            ]
          },
          "metadata": {
            "tags": [],
            "needs_background": "light"
          }
        }
      ]
    },
    {
      "cell_type": "markdown",
      "metadata": {
        "id": "QAys-CjtCHbO"
      },
      "source": [
        "generate a tilt series and get the aberration pattern"
      ]
    },
    {
      "cell_type": "code",
      "metadata": {
        "colab": {
          "base_uri": "https://localhost:8080/"
        },
        "id": "ZVd9n_BJAFkI",
        "outputId": "51843cca-250b-4b44-a1ba-ae1d9bff2682"
      },
      "source": [
        "tilt_range_y=np.array([-19.56,-9.78,0,9.78,19.56])\n",
        "tilt_range_x=np.array([-19.56,-9.78,0,9.78,19.56])\n",
        "\n",
        "num=tilt_range_x.shape[0]*tilt_range_y.shape[0]\n",
        "\n",
        "aberration_pattern=np.zeros((tilt_range_x.shape[0],tilt_range_y.shape[0],256,256))\n",
        "aberration_pattern_sum=np.zeros((256,256))\n",
        "print(aberration_pattern.shape)\n",
        "\n",
        "for i,tilty in enumerate(tilt_range_y):\n",
        "  for j,tiltx in enumerate(tilt_range_x):\n",
        "      Transfer_function_2=make_contrast_transfer_function_2(pix_dim=[256,256],real_dim=[51.2,51.2],eV=6e4,app=3.03,optic_axis=[tiltx*np.cos(np.pi/4)-tilty*np.sin(np.pi/4),tiltx*np.sin(np.pi/4)+tilty*np.cos(np.pi/4)],aperture_shift=[0,0],tilt_units='mrad',df=0,aberrations=aberration_starter_pack(),q=None,app_units='mrad')\n",
        "      EELS_Transfer_function_real_2=np.fft.fftshift(np.fft.fft(Transfer_function_2,axis=-1)) # although this should be a Forward FFT, the sign convention tries to follow Kirkland's book which has the opposite sign for FFT in numpy\n",
        "      aberration_pattern[i,j,:,:]=abs(EELS_Transfer_function_real_2*np.conjugate(EELS_Transfer_function_real_2))\n",
        "      aberration_pattern_sum+=aberration_pattern[i,j,:,:]\n"
      ],
      "execution_count": null,
      "outputs": [
        {
          "output_type": "stream",
          "text": [
            "(5, 5, 256, 256)\n",
            "(256, 256)\n",
            "[[False False False ... False False False]\n",
            " [False False False ... False False False]\n",
            " [False False False ... False False False]\n",
            " ...\n",
            " [False False False ... False False False]\n",
            " [False False False ... False False False]\n",
            " [False False False ... False False False]]\n",
            "normalization constant\n",
            "33\n",
            "qarray shape\n",
            "(256, 256)\n",
            "(33,)\n",
            "what is up\n",
            "(256, 256)\n",
            "(256, 256)\n",
            "[[False False False ... False False False]\n",
            " [False False False ... False False False]\n",
            " [False False False ... False False False]\n",
            " ...\n",
            " [False False False ... False False False]\n",
            " [False False False ... False False False]\n",
            " [False False False ... False False False]]\n",
            "normalization constant\n",
            "32\n",
            "qarray shape\n",
            "(256, 256)\n",
            "(32,)\n",
            "what is up\n",
            "(256, 256)\n",
            "(256, 256)\n",
            "[[False False False ... False False False]\n",
            " [False False False ... False False False]\n",
            " [False False False ... False False False]\n",
            " ...\n",
            " [False False False ... False False False]\n",
            " [False False False ... False False False]\n",
            " [False False False ... False False False]]\n",
            "normalization constant\n",
            "32\n",
            "qarray shape\n",
            "(256, 256)\n",
            "(32,)\n",
            "what is up\n",
            "(256, 256)\n",
            "(256, 256)\n",
            "[[False False False ... False False False]\n",
            " [False False False ... False False False]\n",
            " [False False False ... False False False]\n",
            " ...\n",
            " [False False False ... False False False]\n",
            " [False False False ... False False False]\n",
            " [False False False ... False False False]]\n",
            "normalization constant\n",
            "32\n",
            "qarray shape\n",
            "(256, 256)\n",
            "(32,)\n",
            "what is up\n",
            "(256, 256)\n",
            "(256, 256)\n",
            "[[False False False ... False False False]\n",
            " [False False False ... False False False]\n",
            " [False False False ... False False False]\n",
            " ...\n",
            " [False False False ... False False False]\n",
            " [False False False ... False False False]\n",
            " [False False False ... False False False]]\n",
            "normalization constant\n",
            "33\n",
            "qarray shape\n",
            "(256, 256)\n",
            "(33,)\n",
            "what is up\n",
            "(256, 256)\n",
            "(256, 256)\n",
            "[[False False False ... False False False]\n",
            " [False False False ... False False False]\n",
            " [False False False ... False False False]\n",
            " ...\n",
            " [False False False ... False False False]\n",
            " [False False False ... False False False]\n",
            " [False False False ... False False False]]\n",
            "normalization constant\n",
            "32\n",
            "qarray shape\n",
            "(256, 256)\n",
            "(32,)\n",
            "what is up\n",
            "(256, 256)\n",
            "(256, 256)\n",
            "[[False False False ... False False False]\n",
            " [False False False ... False False False]\n",
            " [False False False ... False False False]\n",
            " ...\n",
            " [False False False ... False False False]\n",
            " [False False False ... False False False]\n",
            " [False False False ... False False False]]\n",
            "normalization constant\n",
            "32\n",
            "qarray shape\n",
            "(256, 256)\n",
            "(32,)\n",
            "what is up\n",
            "(256, 256)\n",
            "(256, 256)\n",
            "[[False False False ... False False False]\n",
            " [False False False ... False False False]\n",
            " [False False False ... False False False]\n",
            " ...\n",
            " [False False False ... False False False]\n",
            " [False False False ... False False False]\n",
            " [False False False ... False False False]]\n",
            "normalization constant\n",
            "30\n",
            "qarray shape\n",
            "(256, 256)\n",
            "(30,)\n",
            "what is up\n",
            "(256, 256)\n",
            "(256, 256)\n",
            "[[False False False ... False False False]\n",
            " [False False False ... False False False]\n",
            " [False False False ... False False False]\n",
            " ...\n",
            " [False False False ... False False False]\n",
            " [False False False ... False False False]\n",
            " [False False False ... False False False]]\n",
            "normalization constant\n",
            "32\n",
            "qarray shape\n",
            "(256, 256)\n",
            "(32,)\n",
            "what is up\n",
            "(256, 256)\n",
            "(256, 256)\n",
            "[[False False False ... False False False]\n",
            " [False False False ... False False False]\n",
            " [False False False ... False False False]\n",
            " ...\n",
            " [False False False ... False False False]\n",
            " [False False False ... False False False]\n",
            " [False False False ... False False False]]\n",
            "normalization constant\n",
            "32\n",
            "qarray shape\n",
            "(256, 256)\n",
            "(32,)\n",
            "what is up\n",
            "(256, 256)\n",
            "(256, 256)\n",
            "[[False False False ... False False False]\n",
            " [False False False ... False False False]\n",
            " [False False False ... False False False]\n",
            " ...\n",
            " [False False False ... False False False]\n",
            " [False False False ... False False False]\n",
            " [False False False ... False False False]]\n",
            "normalization constant\n",
            "32\n",
            "qarray shape\n",
            "(256, 256)\n",
            "(32,)\n",
            "what is up\n",
            "(256, 256)\n",
            "(256, 256)\n",
            "[[False False False ... False False False]\n",
            " [False False False ... False False False]\n",
            " [False False False ... False False False]\n",
            " ...\n",
            " [False False False ... False False False]\n",
            " [False False False ... False False False]\n",
            " [False False False ... False False False]]\n",
            "normalization constant\n",
            "30\n",
            "qarray shape\n",
            "(256, 256)\n",
            "(30,)\n",
            "what is up\n",
            "(256, 256)\n",
            "(256, 256)\n",
            "[[ True  True  True ...  True  True  True]\n",
            " [ True  True  True ...  True  True  True]\n",
            " [ True  True  True ... False  True  True]\n",
            " ...\n",
            " [ True  True False ... False False  True]\n",
            " [ True  True  True ... False  True  True]\n",
            " [ True  True  True ...  True  True  True]]\n",
            "normalization constant\n",
            "37\n",
            "qarray shape\n",
            "(256, 256)\n",
            "(37,)\n",
            "what is up\n",
            "(256, 256)\n",
            "(256, 256)\n",
            "[[False False False ... False False False]\n",
            " [False False False ... False False False]\n",
            " [False False False ... False False False]\n",
            " ...\n",
            " [False False False ... False False False]\n",
            " [False False False ... False False False]\n",
            " [False False False ... False False False]]\n",
            "normalization constant\n",
            "30\n",
            "qarray shape\n",
            "(256, 256)\n",
            "(30,)\n",
            "what is up\n",
            "(256, 256)\n",
            "(256, 256)\n",
            "[[False False False ... False False False]\n",
            " [False False False ... False False False]\n",
            " [False False False ... False False False]\n",
            " ...\n",
            " [False False False ... False False False]\n",
            " [False False False ... False False False]\n",
            " [False False False ... False False False]]\n",
            "normalization constant\n",
            "32\n",
            "qarray shape\n",
            "(256, 256)\n",
            "(32,)\n",
            "what is up\n",
            "(256, 256)\n",
            "(256, 256)\n",
            "[[False False False ... False False False]\n",
            " [False False False ... False False False]\n",
            " [False False False ... False False False]\n",
            " ...\n",
            " [False False False ... False False False]\n",
            " [False False False ... False False False]\n",
            " [False False False ... False False False]]\n",
            "normalization constant\n",
            "32\n",
            "qarray shape\n",
            "(256, 256)\n",
            "(32,)\n",
            "what is up\n",
            "(256, 256)\n",
            "(256, 256)\n",
            "[[False False False ... False False False]\n",
            " [False False False ... False False False]\n",
            " [False False False ... False False False]\n",
            " ...\n",
            " [False False False ... False False False]\n",
            " [False False False ... False False False]\n",
            " [False False False ... False False False]]\n",
            "normalization constant\n",
            "32\n",
            "qarray shape\n",
            "(256, 256)\n",
            "(32,)\n",
            "what is up\n",
            "(256, 256)\n",
            "(256, 256)\n",
            "[[False False False ... False False False]\n",
            " [False False False ... False False False]\n",
            " [False False False ... False False False]\n",
            " ...\n",
            " [False False False ... False False False]\n",
            " [False False False ... False False False]\n",
            " [False False False ... False False False]]\n",
            "normalization constant\n",
            "30\n",
            "qarray shape\n",
            "(256, 256)\n",
            "(30,)\n",
            "what is up\n",
            "(256, 256)\n",
            "(256, 256)\n",
            "[[False False False ... False False False]\n",
            " [False False False ... False False False]\n",
            " [False False False ... False False False]\n",
            " ...\n",
            " [False False False ... False False False]\n",
            " [False False False ... False False False]\n",
            " [False False False ... False False False]]\n",
            "normalization constant\n",
            "32\n",
            "qarray shape\n",
            "(256, 256)\n",
            "(32,)\n",
            "what is up\n",
            "(256, 256)\n",
            "(256, 256)\n",
            "[[False False False ... False False False]\n",
            " [False False False ... False False False]\n",
            " [False False False ... False False False]\n",
            " ...\n",
            " [False False False ... False False False]\n",
            " [False False False ... False False False]\n",
            " [False False False ... False False False]]\n",
            "normalization constant\n",
            "32\n",
            "qarray shape\n",
            "(256, 256)\n",
            "(32,)\n",
            "what is up\n",
            "(256, 256)\n",
            "(256, 256)\n",
            "[[False False False ... False False False]\n",
            " [False False False ... False False False]\n",
            " [False False False ... False False False]\n",
            " ...\n",
            " [False False False ... False False False]\n",
            " [False False False ... False False False]\n",
            " [False False False ... False False False]]\n",
            "normalization constant\n",
            "33\n",
            "qarray shape\n",
            "(256, 256)\n",
            "(33,)\n",
            "what is up\n",
            "(256, 256)\n",
            "(256, 256)\n",
            "[[False False False ... False False False]\n",
            " [False False False ... False False False]\n",
            " [False False False ... False False False]\n",
            " ...\n",
            " [False False False ... False False False]\n",
            " [False False False ... False False False]\n",
            " [False False False ... False False False]]\n",
            "normalization constant\n",
            "32\n",
            "qarray shape\n",
            "(256, 256)\n",
            "(32,)\n",
            "what is up\n",
            "(256, 256)\n",
            "(256, 256)\n",
            "[[False False False ... False False False]\n",
            " [False False False ... False False False]\n",
            " [False False False ... False False False]\n",
            " ...\n",
            " [False False False ... False False False]\n",
            " [False False False ... False False False]\n",
            " [False False False ... False False False]]\n",
            "normalization constant\n",
            "32\n",
            "qarray shape\n",
            "(256, 256)\n",
            "(32,)\n",
            "what is up\n",
            "(256, 256)\n",
            "(256, 256)\n",
            "[[False False False ... False False False]\n",
            " [False False False ... False False False]\n",
            " [False False False ... False False False]\n",
            " ...\n",
            " [False False False ... False False False]\n",
            " [False False False ... False False False]\n",
            " [False False False ... False False False]]\n",
            "normalization constant\n",
            "32\n",
            "qarray shape\n",
            "(256, 256)\n",
            "(32,)\n",
            "what is up\n",
            "(256, 256)\n",
            "(256, 256)\n",
            "[[False False False ... False False False]\n",
            " [False False False ... False False False]\n",
            " [False False False ... False False False]\n",
            " ...\n",
            " [False False False ... False False False]\n",
            " [False False False ... False False False]\n",
            " [False False False ... False False False]]\n",
            "normalization constant\n",
            "33\n",
            "qarray shape\n",
            "(256, 256)\n",
            "(33,)\n",
            "what is up\n",
            "(256, 256)\n"
          ],
          "name": "stdout"
        }
      ]
    },
    {
      "cell_type": "code",
      "metadata": {
        "colab": {
          "base_uri": "https://localhost:8080/"
        },
        "id": "gzqQl0CTC9z2",
        "outputId": "77fde148-db7a-4123-e1ca-687bd5e31658"
      },
      "source": [
        "plt.imshow(aberration_pattern_sum)"
      ],
      "execution_count": null,
      "outputs": [
        {
          "output_type": "execute_result",
          "data": {
            "text/plain": [
              "<matplotlib.image.AxesImage at 0x7f38fe7bce10>"
            ]
          },
          "metadata": {
            "tags": []
          },
          "execution_count": 32
        },
        {
          "output_type": "display_data",
          "data": {
            "image/png": "[encoded data removed]",
            "text/plain": [
              "<Figure size 432x288 with 1 Axes>"
            ]
          },
          "metadata": {
            "tags": [],
            "needs_background": "light"
          }
        }
      ]
    },
    {
      "cell_type": "markdown",
      "metadata": {
        "id": "Qxx9Foguc0qT"
      },
      "source": [
        "Calibrating the EELS image"
      ]
    },
    {
      "cell_type": "code",
      "metadata": {
        "id": "8y4ERv1EE0Al",
        "colab": {
          "base_uri": "https://localhost:8080/"
        },
        "outputId": "5119fb90-507d-4fa6-e61e-c4c9e0dcd774"
      },
      "source": [
        "tilt_range_y=np.array([-19.56,-9.78,0,9.78,19.56])\n",
        "tilt_range_x=np.array([-19.56,-9.78,0,9.78,19.56])\n",
        "\n",
        "num=tilt_range_x.shape[0]*tilt_range_y.shape[0]\n",
        "\n",
        "aberration_pattern=np.zeros((tilt_range_x.shape[0],tilt_range_y.shape[0],2048,2048))\n",
        "aberration_pattern_sum=np.zeros((2048,2048))\n",
        "print(aberration_pattern.shape)\n",
        "\n",
        "for i,tilty in enumerate(tilt_range_y):\n",
        "  for j,tiltx in enumerate(tilt_range_x):\n",
        "      Transfer_function_2=make_contrast_transfer_function_2(pix_dim=[2048,2048],real_dim=[25.558,4136.96],eV=6e4,app=3.03,optic_axis=[tiltx*np.cos(np.pi/4)-tilty*np.sin(np.pi/4),tiltx*np.sin(np.pi/4)+tilty*np.cos(np.pi/4)],aperture_shift=[0,0],tilt_units='mrad',df=0,aberrations=aberration_starter_pack(),q=None,app_units='mrad')\n",
        "      EELS_Transfer_function_real_2=np.fft.fftshift(np.fft.fft(Transfer_function_2,axis=-1)) # although this should be a Forward FFT, the sign convention tries to follow Kirkland's book which has the opposite sign for FFT in numpy\n",
        "      aberration_pattern[i,j,:,:]=abs(EELS_Transfer_function_real_2*np.conjugate(EELS_Transfer_function_real_2))\n",
        "      aberration_pattern_sum+=aberration_pattern[i,j,:,:]"
      ],
      "execution_count": null,
      "outputs": [
        {
          "output_type": "stream",
          "text": [
            "(5, 5, 2048, 2048)\n",
            "(2048, 2048)\n",
            "[[False False False ... False False False]\n",
            " [False False False ... False False False]\n",
            " [False False False ... False False False]\n",
            " ...\n",
            " [False False False ... False False False]\n",
            " [False False False ... False False False]\n",
            " [False False False ... False False False]]\n",
            "normalization constant\n",
            "0\n",
            "qarray shape\n",
            "(2048, 2048)\n",
            "(0,)\n",
            "what is up\n",
            "(2048, 2048)\n",
            "(2048, 2048)\n",
            "[[False False False ... False False False]\n",
            " [False False False ... False False False]\n",
            " [False False False ... False False False]\n",
            " ...\n",
            " [False False False ... False False False]\n",
            " [False False False ... False False False]\n",
            " [False False False ... False False False]]\n",
            "normalization constant\n",
            "0\n",
            "qarray shape\n",
            "(2048, 2048)\n",
            "(0,)\n",
            "what is up\n",
            "(2048, 2048)\n",
            "(2048, 2048)\n",
            "[[False False False ... False False False]\n",
            " [False False False ... False False False]\n",
            " [False False False ... False False False]\n",
            " ...\n",
            " [False False False ... False False False]\n",
            " [False False False ... False False False]\n",
            " [False False False ... False False False]]\n",
            "normalization constant\n",
            "185\n",
            "qarray shape\n",
            "(2048, 2048)\n",
            "(185,)\n",
            "what is up\n",
            "(2048, 2048)\n",
            "(2048, 2048)\n",
            "[[False False False ... False False False]\n",
            " [False False False ... False False False]\n",
            " [False False False ... False False False]\n",
            " ...\n",
            " [False False False ... False False False]\n",
            " [False False False ... False False False]\n",
            " [False False False ... False False False]]\n",
            "normalization constant\n",
            "1310\n",
            "qarray shape\n",
            "(2048, 2048)\n",
            "(1310,)\n",
            "what is up\n",
            "(2048, 2048)\n",
            "(2048, 2048)\n",
            "[[False False False ... False False False]\n",
            " [False False False ... False False False]\n",
            " [False False False ... False False False]\n",
            " ...\n",
            " [False False False ... False False False]\n",
            " [False False False ... False False False]\n",
            " [False False False ... False False False]]\n",
            "normalization constant\n",
            "1318\n",
            "qarray shape\n",
            "(2048, 2048)\n",
            "(1318,)\n",
            "what is up\n",
            "(2048, 2048)\n",
            "(2048, 2048)\n",
            "[[False False False ... False False False]\n",
            " [False False False ... False False False]\n",
            " [False False False ... False False False]\n",
            " ...\n",
            " [False False False ... False False False]\n",
            " [False False False ... False False False]\n",
            " [False False False ... False False False]]\n",
            "normalization constant\n",
            "0\n",
            "qarray shape\n",
            "(2048, 2048)\n",
            "(0,)\n",
            "what is up\n",
            "(2048, 2048)\n",
            "(2048, 2048)\n",
            "[[False False False ... False False False]\n",
            " [False False False ... False False False]\n",
            " [False False False ... False False False]\n",
            " ...\n",
            " [False False False ... False False False]\n",
            " [False False False ... False False False]\n",
            " [False False False ... False False False]]\n",
            "normalization constant\n",
            "204\n",
            "qarray shape\n",
            "(2048, 2048)\n",
            "(204,)\n",
            "what is up\n",
            "(2048, 2048)\n",
            "(2048, 2048)\n",
            "[[False False False ... False False False]\n",
            " [False False False ... False False False]\n",
            " [False False False ... False False False]\n",
            " ...\n",
            " [False False False ... False False False]\n",
            " [False False False ... False False False]\n",
            " [False False False ... False False False]]\n",
            "normalization constant\n",
            "1237\n",
            "qarray shape\n",
            "(2048, 2048)\n",
            "(1237,)\n",
            "what is up\n",
            "(2048, 2048)\n",
            "(2048, 2048)\n",
            "[[False False False ... False False False]\n",
            " [False False False ... False False False]\n",
            " [False False False ... False False False]\n",
            " ...\n",
            " [False False False ... False False False]\n",
            " [False False False ... False False False]\n",
            " [False False False ... False False False]]\n",
            "normalization constant\n",
            "1279\n",
            "qarray shape\n",
            "(2048, 2048)\n",
            "(1279,)\n",
            "what is up\n",
            "(2048, 2048)\n",
            "(2048, 2048)\n",
            "[[False False False ... False False False]\n",
            " [False False False ... False False False]\n",
            " [False False False ... False False False]\n",
            " ...\n",
            " [False False False ... False False False]\n",
            " [False False False ... False False False]\n",
            " [False False False ... False False False]]\n",
            "normalization constant\n",
            "1310\n",
            "qarray shape\n",
            "(2048, 2048)\n",
            "(1310,)\n",
            "what is up\n",
            "(2048, 2048)\n",
            "(2048, 2048)\n",
            "[[False False False ... False False False]\n",
            " [False False False ... False False False]\n",
            " [False False False ... False False False]\n",
            " ...\n",
            " [False False False ... False False False]\n",
            " [False False False ... False False False]\n",
            " [False False False ... False False False]]\n",
            "normalization constant\n",
            "185\n",
            "qarray shape\n",
            "(2048, 2048)\n",
            "(185,)\n",
            "what is up\n",
            "(2048, 2048)\n",
            "(2048, 2048)\n",
            "[[False False False ... False False False]\n",
            " [False False False ... False False False]\n",
            " [False False False ... False False False]\n",
            " ...\n",
            " [False False False ... False False False]\n",
            " [False False False ... False False False]\n",
            " [False False False ... False False False]]\n",
            "normalization constant\n",
            "1237\n",
            "qarray shape\n",
            "(2048, 2048)\n",
            "(1237,)\n",
            "what is up\n",
            "(2048, 2048)\n",
            "(2048, 2048)\n",
            "[[ True  True  True ...  True  True  True]\n",
            " [ True  True  True ...  True  True  True]\n",
            " [False False False ... False False False]\n",
            " ...\n",
            " [False False False ... False False False]\n",
            " [False False False ... False False False]\n",
            " [ True  True  True ...  True  True  True]]\n",
            "normalization constant\n",
            "1317\n",
            "qarray shape\n",
            "(2048, 2048)\n",
            "(1317,)\n",
            "what is up\n",
            "(2048, 2048)\n",
            "(2048, 2048)\n",
            "[[False False False ... False False False]\n",
            " [False False False ... False False False]\n",
            " [False False False ... False False False]\n",
            " ...\n",
            " [False False False ... False False False]\n",
            " [False False False ... False False False]\n",
            " [False False False ... False False False]]\n",
            "normalization constant\n",
            "1237\n",
            "qarray shape\n",
            "(2048, 2048)\n",
            "(1237,)\n",
            "what is up\n",
            "(2048, 2048)\n",
            "(2048, 2048)\n",
            "[[False False False ... False False False]\n",
            " [False False False ... False False False]\n",
            " [False False False ... False False False]\n",
            " ...\n",
            " [False False False ... False False False]\n",
            " [False False False ... False False False]\n",
            " [False False False ... False False False]]\n",
            "normalization constant\n",
            "182\n",
            "qarray shape\n",
            "(2048, 2048)\n",
            "(182,)\n",
            "what is up\n",
            "(2048, 2048)\n",
            "(2048, 2048)\n",
            "[[False False False ... False False False]\n",
            " [False False False ... False False False]\n",
            " [False False False ... False False False]\n",
            " ...\n",
            " [False False False ... False False False]\n",
            " [False False False ... False False False]\n",
            " [False False False ... False False False]]\n",
            "normalization constant\n",
            "1310\n",
            "qarray shape\n",
            "(2048, 2048)\n",
            "(1310,)\n",
            "what is up\n",
            "(2048, 2048)\n",
            "(2048, 2048)\n",
            "[[False False False ... False False False]\n",
            " [False False False ... False False False]\n",
            " [False False False ... False False False]\n",
            " ...\n",
            " [False False False ... False False False]\n",
            " [False False False ... False False False]\n",
            " [False False False ... False False False]]\n",
            "normalization constant\n",
            "1279\n",
            "qarray shape\n",
            "(2048, 2048)\n",
            "(1279,)\n",
            "what is up\n",
            "(2048, 2048)\n",
            "(2048, 2048)\n",
            "[[False False False ... False False False]\n",
            " [False False False ... False False False]\n",
            " [False False False ... False False False]\n",
            " ...\n",
            " [False False False ... False False False]\n",
            " [False False False ... False False False]\n",
            " [False False False ... False False False]]\n",
            "normalization constant\n",
            "1237\n",
            "qarray shape\n",
            "(2048, 2048)\n",
            "(1237,)\n",
            "what is up\n",
            "(2048, 2048)\n",
            "(2048, 2048)\n",
            "[[False False False ... False False False]\n",
            " [False False False ... False False False]\n",
            " [False False False ... False False False]\n",
            " ...\n",
            " [False False False ... False False False]\n",
            " [False False False ... False False False]\n",
            " [False False False ... False False False]]\n",
            "normalization constant\n",
            "201\n",
            "qarray shape\n",
            "(2048, 2048)\n",
            "(201,)\n",
            "what is up\n",
            "(2048, 2048)\n",
            "(2048, 2048)\n",
            "[[False False False ... False False False]\n",
            " [False False False ... False False False]\n",
            " [False False False ... False False False]\n",
            " ...\n",
            " [False False False ... False False False]\n",
            " [False False False ... False False False]\n",
            " [False False False ... False False False]]\n",
            "normalization constant\n",
            "0\n",
            "qarray shape\n",
            "(2048, 2048)\n",
            "(0,)\n",
            "what is up\n",
            "(2048, 2048)\n",
            "(2048, 2048)\n",
            "[[False False False ... False False False]\n",
            " [False False False ... False False False]\n",
            " [False False False ... False False False]\n",
            " ...\n",
            " [False False False ... False False False]\n",
            " [False False False ... False False False]\n",
            " [False False False ... False False False]]\n",
            "normalization constant\n",
            "1318\n",
            "qarray shape\n",
            "(2048, 2048)\n",
            "(1318,)\n",
            "what is up\n",
            "(2048, 2048)\n",
            "(2048, 2048)\n",
            "[[False False False ... False False False]\n",
            " [False False False ... False False False]\n",
            " [False False False ... False False False]\n",
            " ...\n",
            " [False False False ... False False False]\n",
            " [False False False ... False False False]\n",
            " [False False False ... False False False]]\n",
            "normalization constant\n",
            "1310\n",
            "qarray shape\n",
            "(2048, 2048)\n",
            "(1310,)\n",
            "what is up\n",
            "(2048, 2048)\n",
            "(2048, 2048)\n",
            "[[False False False ... False False False]\n",
            " [False False False ... False False False]\n",
            " [False False False ... False False False]\n",
            " ...\n",
            " [False False False ... False False False]\n",
            " [False False False ... False False False]\n",
            " [False False False ... False False False]]\n",
            "normalization constant\n",
            "182\n",
            "qarray shape\n",
            "(2048, 2048)\n",
            "(182,)\n",
            "what is up\n",
            "(2048, 2048)\n",
            "(2048, 2048)\n",
            "[[False False False ... False False False]\n",
            " [False False False ... False False False]\n",
            " [False False False ... False False False]\n",
            " ...\n",
            " [False False False ... False False False]\n",
            " [False False False ... False False False]\n",
            " [False False False ... False False False]]\n",
            "normalization constant\n",
            "0\n",
            "qarray shape\n",
            "(2048, 2048)\n",
            "(0,)\n",
            "what is up\n",
            "(2048, 2048)\n",
            "(2048, 2048)\n",
            "[[False False False ... False False False]\n",
            " [False False False ... False False False]\n",
            " [False False False ... False False False]\n",
            " ...\n",
            " [False False False ... False False False]\n",
            " [False False False ... False False False]\n",
            " [False False False ... False False False]]\n",
            "normalization constant\n",
            "0\n",
            "qarray shape\n",
            "(2048, 2048)\n",
            "(0,)\n",
            "what is up\n",
            "(2048, 2048)\n"
          ],
          "name": "stdout"
        }
      ]
    },
    {
      "cell_type": "code",
      "metadata": {
        "colab": {
          "base_uri": "https://localhost:8080/"
        },
        "id": "loDV8-63Bimv",
        "outputId": "6753c74a-b706-454d-dd21-a0dd434415d2"
      },
      "source": [
        "tilt_range_y=np.array([-19.56,-9.78,0,9.78,19.56])\n",
        "tilt_range_x=np.array([-19.56,-9.78,0,9.78,19.56])\n",
        "\n",
        "num=tilt_range_x.shape[0]*tilt_range_y.shape[0]\n",
        "\n",
        "aberration_pattern=np.zeros((tilt_range_x.shape[0],tilt_range_y.shape[0],2048,2048))\n",
        "aberration_pattern_sum=np.zeros((2048,2048))\n",
        "print(aberration_pattern.shape)\n",
        "\n",
        "for i,tilty in enumerate(tilt_range_y):\n",
        "  for j,tiltx in enumerate(tilt_range_x):\n",
        "      Transfer_function_2=make_contrast_transfer_function_2(pix_dim=[2048,2048],real_dim=[4136.96,4136.96],eV=6e4,app=3.03,optic_axis=[tiltx*np.cos(np.pi/4)-tilty*np.sin(np.pi/4),tiltx*np.sin(np.pi/4)+tilty*np.cos(np.pi/4)],aperture_shift=[0,0],tilt_units='mrad',df=0,aberrations=aberration_starter_pack(),q=None,app_units='mrad')\n",
        "      EELS_Transfer_function_real_2=np.fft.fftshift(np.fft.fft(Transfer_function_2,axis=-1)) # although this should be a Forward FFT, the sign convention tries to follow Kirkland's book which has the opposite sign for FFT in numpy\n",
        "      aberration_pattern[i,j,:,:]=abs(EELS_Transfer_function_real_2*np.conjugate(EELS_Transfer_function_real_2))\n",
        "      aberration_pattern_sum+=aberration_pattern[i,j,:,:]"
      ],
      "execution_count": null,
      "outputs": [
        {
          "output_type": "stream",
          "text": [
            "(5, 5, 2048, 2048)\n",
            "(2048, 2048)\n",
            "[[False False False ... False False False]\n",
            " [False False False ... False False False]\n",
            " [False False False ... False False False]\n",
            " ...\n",
            " [False False False ... False False False]\n",
            " [False False False ... False False False]\n",
            " [False False False ... False False False]]\n",
            "normalization constant\n",
            "0\n",
            "qarray shape\n",
            "(2048, 2048)\n",
            "(0,)\n",
            "what is up\n",
            "(2048, 2048)\n",
            "(2048, 2048)\n",
            "[[False False False ... False False False]\n",
            " [False False False ... False False False]\n",
            " [False False False ... False False False]\n",
            " ...\n",
            " [False False False ... False False False]\n",
            " [False False False ... False False False]\n",
            " [False False False ... False False False]]\n",
            "normalization constant\n",
            "0\n",
            "qarray shape\n",
            "(2048, 2048)\n",
            "(0,)\n",
            "what is up\n",
            "(2048, 2048)\n",
            "(2048, 2048)\n",
            "[[False False False ... False False False]\n",
            " [False False False ... False False False]\n",
            " [False False False ... False False False]\n",
            " ...\n",
            " [False False False ... False False False]\n",
            " [False False False ... False False False]\n",
            " [False False False ... False False False]]\n",
            "normalization constant\n",
            "1744\n",
            "qarray shape\n",
            "(2048, 2048)\n",
            "(1744,)\n",
            "what is up\n",
            "(2048, 2048)\n",
            "(2048, 2048)\n",
            "[[False False False ... False False False]\n",
            " [False False False ... False False False]\n",
            " [False False False ... False False False]\n",
            " ...\n",
            " [False False False ... False False False]\n",
            " [False False False ... False False False]\n",
            " [False False False ... False False False]]\n",
            "normalization constant\n",
            "0\n",
            "qarray shape\n",
            "(2048, 2048)\n",
            "(0,)\n",
            "what is up\n",
            "(2048, 2048)\n",
            "(2048, 2048)\n",
            "[[False False False ... False False False]\n",
            " [False False False ... False False False]\n",
            " [False False False ... False False False]\n",
            " ...\n",
            " [False False False ... False False False]\n",
            " [False False False ... False False False]\n",
            " [False False False ... False False False]]\n",
            "normalization constant\n",
            "0\n",
            "qarray shape\n",
            "(2048, 2048)\n",
            "(0,)\n",
            "what is up\n",
            "(2048, 2048)\n",
            "(2048, 2048)\n",
            "[[False False False ... False False False]\n",
            " [False False False ... False False False]\n",
            " [False False False ... False False False]\n",
            " ...\n",
            " [False False False ... False False False]\n",
            " [False False False ... False False False]\n",
            " [False False False ... False False False]]\n",
            "normalization constant\n",
            "0\n",
            "qarray shape\n",
            "(2048, 2048)\n",
            "(0,)\n",
            "what is up\n",
            "(2048, 2048)\n",
            "(2048, 2048)\n",
            "[[False False False ... False False False]\n",
            " [False False False ... False False False]\n",
            " [False False False ... False False False]\n",
            " ...\n",
            " [False False False ... False False False]\n",
            " [False False False ... False False False]\n",
            " [False False False ... False False False]]\n",
            "normalization constant\n",
            "31008\n",
            "qarray shape\n",
            "(2048, 2048)\n",
            "(31008,)\n",
            "what is up\n",
            "(2048, 2048)\n",
            "(2048, 2048)\n",
            "[[False False False ... False False False]\n",
            " [False False False ... False False False]\n",
            " [False False False ... False False False]\n",
            " ...\n",
            " [False False False ... False False False]\n",
            " [False False False ... False False False]\n",
            " [False False False ... False False False]]\n",
            "normalization constant\n",
            "208479\n",
            "qarray shape\n",
            "(2048, 2048)\n",
            "(208479,)\n",
            "what is up\n",
            "(2048, 2048)\n",
            "(2048, 2048)\n",
            "[[False False False ... False False False]\n",
            " [False False False ... False False False]\n",
            " [False False False ... False False False]\n",
            " ...\n",
            " [False False False ... False False False]\n",
            " [False False False ... False False False]\n",
            " [False False False ... False False False]]\n",
            "normalization constant\n",
            "30591\n",
            "qarray shape\n",
            "(2048, 2048)\n",
            "(30591,)\n",
            "what is up\n",
            "(2048, 2048)\n",
            "(2048, 2048)\n",
            "[[False False False ... False False False]\n",
            " [False False False ... False False False]\n",
            " [False False False ... False False False]\n",
            " ...\n",
            " [False False False ... False False False]\n",
            " [False False False ... False False False]\n",
            " [False False False ... False False False]]\n",
            "normalization constant\n",
            "0\n",
            "qarray shape\n",
            "(2048, 2048)\n",
            "(0,)\n",
            "what is up\n",
            "(2048, 2048)\n",
            "(2048, 2048)\n",
            "[[False False False ... False False False]\n",
            " [False False False ... False False False]\n",
            " [False False False ... False False False]\n",
            " ...\n",
            " [False False False ... False False False]\n",
            " [False False False ... False False False]\n",
            " [False False False ... False False False]]\n",
            "normalization constant\n",
            "1801\n",
            "qarray shape\n",
            "(2048, 2048)\n",
            "(1801,)\n",
            "what is up\n",
            "(2048, 2048)\n",
            "(2048, 2048)\n",
            "[[False False False ... False False False]\n",
            " [False False False ... False False False]\n",
            " [False False False ... False False False]\n",
            " ...\n",
            " [False False False ... False False False]\n",
            " [False False False ... False False False]\n",
            " [False False False ... False False False]]\n",
            "normalization constant\n",
            "208479\n",
            "qarray shape\n",
            "(2048, 2048)\n",
            "(208479,)\n",
            "what is up\n",
            "(2048, 2048)\n",
            "(2048, 2048)\n",
            "[[ True  True  True ...  True  True  True]\n",
            " [ True  True  True ...  True  True  True]\n",
            " [ True  True  True ...  True  True  True]\n",
            " ...\n",
            " [ True  True  True ...  True  True  True]\n",
            " [ True  True  True ...  True  True  True]\n",
            " [ True  True  True ...  True  True  True]]\n",
            "normalization constant\n",
            "208461\n",
            "qarray shape\n",
            "(2048, 2048)\n",
            "(208461,)\n",
            "what is up\n",
            "(2048, 2048)\n",
            "(2048, 2048)\n",
            "[[False False False ... False False False]\n",
            " [False False False ... False False False]\n",
            " [False False False ... False False False]\n",
            " ...\n",
            " [False False False ... False False False]\n",
            " [False False False ... False False False]\n",
            " [False False False ... False False False]]\n",
            "normalization constant\n",
            "208479\n",
            "qarray shape\n",
            "(2048, 2048)\n",
            "(208479,)\n",
            "what is up\n",
            "(2048, 2048)\n",
            "(2048, 2048)\n",
            "[[False False False ... False False False]\n",
            " [False False False ... False False False]\n",
            " [False False False ... False False False]\n",
            " ...\n",
            " [False False False ... False False False]\n",
            " [False False False ... False False False]\n",
            " [False False False ... False False False]]\n",
            "normalization constant\n",
            "1688\n",
            "qarray shape\n",
            "(2048, 2048)\n",
            "(1688,)\n",
            "what is up\n",
            "(2048, 2048)\n",
            "(2048, 2048)\n",
            "[[False False False ... False False False]\n",
            " [False False False ... False False False]\n",
            " [False False False ... False False False]\n",
            " ...\n",
            " [False False False ... False False False]\n",
            " [False False False ... False False False]\n",
            " [False False False ... False False False]]\n",
            "normalization constant\n",
            "0\n",
            "qarray shape\n",
            "(2048, 2048)\n",
            "(0,)\n",
            "what is up\n",
            "(2048, 2048)\n",
            "(2048, 2048)\n",
            "[[False False False ... False False False]\n",
            " [False False False ... False False False]\n",
            " [False False False ... False False False]\n",
            " ...\n",
            " [False False False ... False False False]\n",
            " [False False False ... False False False]\n",
            " [False False False ... False False False]]\n",
            "normalization constant\n",
            "31008\n",
            "qarray shape\n",
            "(2048, 2048)\n",
            "(31008,)\n",
            "what is up\n",
            "(2048, 2048)\n",
            "(2048, 2048)\n",
            "[[False False False ... False False False]\n",
            " [False False False ... False False False]\n",
            " [False False False ... False False False]\n",
            " ...\n",
            " [False False False ... False False False]\n",
            " [False False False ... False False False]\n",
            " [False False False ... False False False]]\n",
            "normalization constant\n",
            "208479\n",
            "qarray shape\n",
            "(2048, 2048)\n",
            "(208479,)\n",
            "what is up\n",
            "(2048, 2048)\n",
            "(2048, 2048)\n",
            "[[False False False ... False False False]\n",
            " [False False False ... False False False]\n",
            " [False False False ... False False False]\n",
            " ...\n",
            " [False False False ... False False False]\n",
            " [False False False ... False False False]\n",
            " [False False False ... False False False]]\n",
            "normalization constant\n",
            "30591\n",
            "qarray shape\n",
            "(2048, 2048)\n",
            "(30591,)\n",
            "what is up\n",
            "(2048, 2048)\n",
            "(2048, 2048)\n",
            "[[False False False ... False False False]\n",
            " [False False False ... False False False]\n",
            " [False False False ... False False False]\n",
            " ...\n",
            " [False False False ... False False False]\n",
            " [False False False ... False False False]\n",
            " [False False False ... False False False]]\n",
            "normalization constant\n",
            "0\n",
            "qarray shape\n",
            "(2048, 2048)\n",
            "(0,)\n",
            "what is up\n",
            "(2048, 2048)\n",
            "(2048, 2048)\n",
            "[[False False False ... False False False]\n",
            " [False False False ... False False False]\n",
            " [False False False ... False False False]\n",
            " ...\n",
            " [False False False ... False False False]\n",
            " [False False False ... False False False]\n",
            " [False False False ... False False False]]\n",
            "normalization constant\n",
            "0\n",
            "qarray shape\n",
            "(2048, 2048)\n",
            "(0,)\n",
            "what is up\n",
            "(2048, 2048)\n",
            "(2048, 2048)\n",
            "[[False False False ... False False False]\n",
            " [False False False ... False False False]\n",
            " [False False False ... False False False]\n",
            " ...\n",
            " [False False False ... False False False]\n",
            " [False False False ... False False False]\n",
            " [False False False ... False False False]]\n",
            "normalization constant\n",
            "0\n",
            "qarray shape\n",
            "(2048, 2048)\n",
            "(0,)\n",
            "what is up\n",
            "(2048, 2048)\n",
            "(2048, 2048)\n",
            "[[False False False ... False False False]\n",
            " [False False False ... False False False]\n",
            " [False False False ... False False False]\n",
            " ...\n",
            " [False False False ... False False False]\n",
            " [False False False ... False False False]\n",
            " [False False False ... False False False]]\n",
            "normalization constant\n",
            "1744\n",
            "qarray shape\n",
            "(2048, 2048)\n",
            "(1744,)\n",
            "what is up\n",
            "(2048, 2048)\n",
            "(2048, 2048)\n",
            "[[False False False ... False False False]\n",
            " [False False False ... False False False]\n",
            " [False False False ... False False False]\n",
            " ...\n",
            " [False False False ... False False False]\n",
            " [False False False ... False False False]\n",
            " [False False False ... False False False]]\n",
            "normalization constant\n",
            "0\n",
            "qarray shape\n",
            "(2048, 2048)\n",
            "(0,)\n",
            "what is up\n",
            "(2048, 2048)\n",
            "(2048, 2048)\n",
            "[[False False False ... False False False]\n",
            " [False False False ... False False False]\n",
            " [False False False ... False False False]\n",
            " ...\n",
            " [False False False ... False False False]\n",
            " [False False False ... False False False]\n",
            " [False False False ... False False False]]\n",
            "normalization constant\n",
            "0\n",
            "qarray shape\n",
            "(2048, 2048)\n",
            "(0,)\n",
            "what is up\n",
            "(2048, 2048)\n"
          ],
          "name": "stdout"
        }
      ]
    },
    {
      "cell_type": "code",
      "metadata": {
        "colab": {
          "base_uri": "https://localhost:8080/"
        },
        "id": "Z0CNL3GxBkYH",
        "outputId": "7e5db224-1551-4b8d-f903-ba39040e4404"
      },
      "source": [
        "tilt_range_y=np.array([-19.56,-9.78,0,9.78,19.56])\n",
        "tilt_range_x=np.array([-19.56,-9.78,0,9.78,19.56])\n",
        "\n",
        "num=tilt_range_x.shape[0]*tilt_range_y.shape[0]\n",
        "\n",
        "aberration_pattern=np.zeros((tilt_range_x.shape[0],tilt_range_y.shape[0],2048,2048))\n",
        "aberration_pattern_sum=np.zeros((2048,2048))\n",
        "print(aberration_pattern.shape)\n",
        "\n",
        "for i,tilty in enumerate(tilt_range_y):\n",
        "  for j,tiltx in enumerate(tilt_range_x):\n",
        "      Transfer_function_2=make_contrast_transfer_function_2(pix_dim=[2048,2048],real_dim=[26.61,4136.96],eV=6e4,app=3.03,optic_axis=[tiltx*np.cos(np.pi/4)-tilty*np.sin(np.pi/4),tiltx*np.sin(np.pi/4)+tilty*np.cos(np.pi/4)],aperture_shift=[0,0],tilt_units='mrad',df=0,aberrations=aberration_starter_pack(),q=None,app_units='mrad')\n",
        "      EELS_Transfer_function_real_2=np.fft.fftshift(np.fft.fft(Transfer_function_2,axis=-1)) # although this should be a Forward FFT, the sign convention tries to follow Kirkland's book which has the opposite sign for FFT in numpy\n",
        "      aberration_pattern[i,j,:,:]=abs(EELS_Transfer_function_real_2*np.conjugate(EELS_Transfer_function_real_2))\n",
        "      aberration_pattern_sum+=aberration_pattern[i,j,:,:]"
      ],
      "execution_count": null,
      "outputs": [
        {
          "output_type": "stream",
          "text": [
            "(5, 5, 2048, 2048)\n",
            "(2048, 2048)\n",
            "[[False False False ... False False False]\n",
            " [False False False ... False False False]\n",
            " [False False False ... False False False]\n",
            " ...\n",
            " [False False False ... False False False]\n",
            " [False False False ... False False False]\n",
            " [False False False ... False False False]]\n",
            "normalization constant\n",
            "0\n",
            "qarray shape\n",
            "(2048, 2048)\n",
            "(0,)\n",
            "what is up\n",
            "(2048, 2048)\n",
            "(2048, 2048)\n",
            "[[False False False ... False False False]\n",
            " [False False False ... False False False]\n",
            " [False False False ... False False False]\n",
            " ...\n",
            " [False False False ... False False False]\n",
            " [False False False ... False False False]\n",
            " [False False False ... False False False]]\n",
            "normalization constant\n",
            "0\n",
            "qarray shape\n",
            "(2048, 2048)\n",
            "(0,)\n",
            "what is up\n",
            "(2048, 2048)\n",
            "(2048, 2048)\n",
            "[[False False False ... False False False]\n",
            " [False False False ... False False False]\n",
            " [False False False ... False False False]\n",
            " ...\n",
            " [False False False ... False False False]\n",
            " [False False False ... False False False]\n",
            " [False False False ... False False False]]\n",
            "normalization constant\n",
            "188\n",
            "qarray shape\n",
            "(2048, 2048)\n",
            "(188,)\n",
            "what is up\n",
            "(2048, 2048)\n",
            "(2048, 2048)\n",
            "[[False False False ... False False False]\n",
            " [False False False ... False False False]\n",
            " [False False False ... False False False]\n",
            " ...\n",
            " [False False False ... False False False]\n",
            " [False False False ... False False False]\n",
            " [False False False ... False False False]]\n",
            "normalization constant\n",
            "1305\n",
            "qarray shape\n",
            "(2048, 2048)\n",
            "(1305,)\n",
            "what is up\n",
            "(2048, 2048)\n",
            "(2048, 2048)\n",
            "[[False False False ... False False False]\n",
            " [False False False ... False False False]\n",
            " [False False False ... False False False]\n",
            " ...\n",
            " [False False False ... False False False]\n",
            " [False False False ... False False False]\n",
            " [False False False ... False False False]]\n",
            "normalization constant\n",
            "1327\n",
            "qarray shape\n",
            "(2048, 2048)\n",
            "(1327,)\n",
            "what is up\n",
            "(2048, 2048)\n",
            "(2048, 2048)\n",
            "[[False False False ... False False False]\n",
            " [False False False ... False False False]\n",
            " [False False False ... False False False]\n",
            " ...\n",
            " [False False False ... False False False]\n",
            " [False False False ... False False False]\n",
            " [False False False ... False False False]]\n",
            "normalization constant\n",
            "0\n",
            "qarray shape\n",
            "(2048, 2048)\n",
            "(0,)\n",
            "what is up\n",
            "(2048, 2048)\n",
            "(2048, 2048)\n",
            "[[False False False ... False False False]\n",
            " [False False False ... False False False]\n",
            " [False False False ... False False False]\n",
            " ...\n",
            " [False False False ... False False False]\n",
            " [False False False ... False False False]\n",
            " [False False False ... False False False]]\n",
            "normalization constant\n",
            "214\n",
            "qarray shape\n",
            "(2048, 2048)\n",
            "(214,)\n",
            "what is up\n",
            "(2048, 2048)\n",
            "(2048, 2048)\n",
            "[[False False False ... False False False]\n",
            " [False False False ... False False False]\n",
            " [False False False ... False False False]\n",
            " ...\n",
            " [False False False ... False False False]\n",
            " [False False False ... False False False]\n",
            " [False False False ... False False False]]\n",
            "normalization constant\n",
            "1315\n",
            "qarray shape\n",
            "(2048, 2048)\n",
            "(1315,)\n",
            "what is up\n",
            "(2048, 2048)\n",
            "(2048, 2048)\n",
            "[[False False False ... False False False]\n",
            " [False False False ... False False False]\n",
            " [False False False ... False False False]\n",
            " ...\n",
            " [False False False ... False False False]\n",
            " [False False False ... False False False]\n",
            " [False False False ... False False False]]\n",
            "normalization constant\n",
            "1410\n",
            "qarray shape\n",
            "(2048, 2048)\n",
            "(1410,)\n",
            "what is up\n",
            "(2048, 2048)\n",
            "(2048, 2048)\n",
            "[[False False False ... False False False]\n",
            " [False False False ... False False False]\n",
            " [False False False ... False False False]\n",
            " ...\n",
            " [False False False ... False False False]\n",
            " [False False False ... False False False]\n",
            " [False False False ... False False False]]\n",
            "normalization constant\n",
            "1305\n",
            "qarray shape\n",
            "(2048, 2048)\n",
            "(1305,)\n",
            "what is up\n",
            "(2048, 2048)\n",
            "(2048, 2048)\n",
            "[[False False False ... False False False]\n",
            " [False False False ... False False False]\n",
            " [False False False ... False False False]\n",
            " ...\n",
            " [False False False ... False False False]\n",
            " [False False False ... False False False]\n",
            " [False False False ... False False False]]\n",
            "normalization constant\n",
            "188\n",
            "qarray shape\n",
            "(2048, 2048)\n",
            "(188,)\n",
            "what is up\n",
            "(2048, 2048)\n",
            "(2048, 2048)\n",
            "[[False False False ... False False False]\n",
            " [False False False ... False False False]\n",
            " [False False False ... False False False]\n",
            " ...\n",
            " [False False False ... False False False]\n",
            " [False False False ... False False False]\n",
            " [False False False ... False False False]]\n",
            "normalization constant\n",
            "1315\n",
            "qarray shape\n",
            "(2048, 2048)\n",
            "(1315,)\n",
            "what is up\n",
            "(2048, 2048)\n",
            "(2048, 2048)\n",
            "[[ True  True  True ...  True  True  True]\n",
            " [ True  True  True ...  True  True  True]\n",
            " [False False False ... False False False]\n",
            " ...\n",
            " [False False False ... False False False]\n",
            " [False False False ... False False False]\n",
            " [ True  True  True ...  True  True  True]]\n",
            "normalization constant\n",
            "1337\n",
            "qarray shape\n",
            "(2048, 2048)\n",
            "(1337,)\n",
            "what is up\n",
            "(2048, 2048)\n",
            "(2048, 2048)\n",
            "[[False False False ... False False False]\n",
            " [False False False ... False False False]\n",
            " [False False False ... False False False]\n",
            " ...\n",
            " [False False False ... False False False]\n",
            " [False False False ... False False False]\n",
            " [False False False ... False False False]]\n",
            "normalization constant\n",
            "1315\n",
            "qarray shape\n",
            "(2048, 2048)\n",
            "(1315,)\n",
            "what is up\n",
            "(2048, 2048)\n",
            "(2048, 2048)\n",
            "[[False False False ... False False False]\n",
            " [False False False ... False False False]\n",
            " [False False False ... False False False]\n",
            " ...\n",
            " [False False False ... False False False]\n",
            " [False False False ... False False False]\n",
            " [False False False ... False False False]]\n",
            "normalization constant\n",
            "186\n",
            "qarray shape\n",
            "(2048, 2048)\n",
            "(186,)\n",
            "what is up\n",
            "(2048, 2048)\n",
            "(2048, 2048)\n",
            "[[False False False ... False False False]\n",
            " [False False False ... False False False]\n",
            " [False False False ... False False False]\n",
            " ...\n",
            " [False False False ... False False False]\n",
            " [False False False ... False False False]\n",
            " [False False False ... False False False]]\n",
            "normalization constant\n",
            "1305\n",
            "qarray shape\n",
            "(2048, 2048)\n",
            "(1305,)\n",
            "what is up\n",
            "(2048, 2048)\n",
            "(2048, 2048)\n",
            "[[False False False ... False False False]\n",
            " [False False False ... False False False]\n",
            " [False False False ... False False False]\n",
            " ...\n",
            " [False False False ... False False False]\n",
            " [False False False ... False False False]\n",
            " [False False False ... False False False]]\n",
            "normalization constant\n",
            "1410\n",
            "qarray shape\n",
            "(2048, 2048)\n",
            "(1410,)\n",
            "what is up\n",
            "(2048, 2048)\n",
            "(2048, 2048)\n",
            "[[False False False ... False False False]\n",
            " [False False False ... False False False]\n",
            " [False False False ... False False False]\n",
            " ...\n",
            " [False False False ... False False False]\n",
            " [False False False ... False False False]\n",
            " [False False False ... False False False]]\n",
            "normalization constant\n",
            "1315\n",
            "qarray shape\n",
            "(2048, 2048)\n",
            "(1315,)\n",
            "what is up\n",
            "(2048, 2048)\n",
            "(2048, 2048)\n",
            "[[False False False ... False False False]\n",
            " [False False False ... False False False]\n",
            " [False False False ... False False False]\n",
            " ...\n",
            " [False False False ... False False False]\n",
            " [False False False ... False False False]\n",
            " [False False False ... False False False]]\n",
            "normalization constant\n",
            "211\n",
            "qarray shape\n",
            "(2048, 2048)\n",
            "(211,)\n",
            "what is up\n",
            "(2048, 2048)\n",
            "(2048, 2048)\n",
            "[[False False False ... False False False]\n",
            " [False False False ... False False False]\n",
            " [False False False ... False False False]\n",
            " ...\n",
            " [False False False ... False False False]\n",
            " [False False False ... False False False]\n",
            " [False False False ... False False False]]\n",
            "normalization constant\n",
            "0\n",
            "qarray shape\n",
            "(2048, 2048)\n",
            "(0,)\n",
            "what is up\n",
            "(2048, 2048)\n",
            "(2048, 2048)\n",
            "[[False False False ... False False False]\n",
            " [False False False ... False False False]\n",
            " [False False False ... False False False]\n",
            " ...\n",
            " [False False False ... False False False]\n",
            " [False False False ... False False False]\n",
            " [False False False ... False False False]]\n",
            "normalization constant\n",
            "1327\n",
            "qarray shape\n",
            "(2048, 2048)\n",
            "(1327,)\n",
            "what is up\n",
            "(2048, 2048)\n",
            "(2048, 2048)\n",
            "[[False False False ... False False False]\n",
            " [False False False ... False False False]\n",
            " [False False False ... False False False]\n",
            " ...\n",
            " [False False False ... False False False]\n",
            " [False False False ... False False False]\n",
            " [False False False ... False False False]]\n",
            "normalization constant\n",
            "1305\n",
            "qarray shape\n",
            "(2048, 2048)\n",
            "(1305,)\n",
            "what is up\n",
            "(2048, 2048)\n",
            "(2048, 2048)\n",
            "[[False False False ... False False False]\n",
            " [False False False ... False False False]\n",
            " [False False False ... False False False]\n",
            " ...\n",
            " [False False False ... False False False]\n",
            " [False False False ... False False False]\n",
            " [False False False ... False False False]]\n",
            "normalization constant\n",
            "186\n",
            "qarray shape\n",
            "(2048, 2048)\n",
            "(186,)\n",
            "what is up\n",
            "(2048, 2048)\n",
            "(2048, 2048)\n",
            "[[False False False ... False False False]\n",
            " [False False False ... False False False]\n",
            " [False False False ... False False False]\n",
            " ...\n",
            " [False False False ... False False False]\n",
            " [False False False ... False False False]\n",
            " [False False False ... False False False]]\n",
            "normalization constant\n",
            "0\n",
            "qarray shape\n",
            "(2048, 2048)\n",
            "(0,)\n",
            "what is up\n",
            "(2048, 2048)\n",
            "(2048, 2048)\n",
            "[[False False False ... False False False]\n",
            " [False False False ... False False False]\n",
            " [False False False ... False False False]\n",
            " ...\n",
            " [False False False ... False False False]\n",
            " [False False False ... False False False]\n",
            " [False False False ... False False False]]\n",
            "normalization constant\n",
            "0\n",
            "qarray shape\n",
            "(2048, 2048)\n",
            "(0,)\n",
            "what is up\n",
            "(2048, 2048)\n"
          ],
          "name": "stdout"
        }
      ]
    },
    {
      "cell_type": "code",
      "metadata": {
        "colab": {
          "base_uri": "https://localhost:8080/"
        },
        "id": "sB9-de80dYV5",
        "outputId": "36a65c4f-0d56-47e0-e087-ce445068dd1d"
      },
      "source": [
        "plt.figure(figsize=(50,100))\n",
        "plt.imshow(aberration_pattern_sum[800:1200,:],vmax=10000)\n",
        "# plt.colorbar()\n"
      ],
      "execution_count": null,
      "outputs": [
        {
          "output_type": "execute_result",
          "data": {
            "text/plain": [
              "<matplotlib.image.AxesImage at 0x7f38fe7a8810>"
            ]
          },
          "metadata": {
            "tags": []
          },
          "execution_count": 36
        },
        {
          "output_type": "display_data",
          "data": {
            "image/png": "[encoded data removed]",
            "text/plain": [
              "<Figure size 3600x7200 with 1 Axes>"
            ]
          },
          "metadata": {
            "tags": [],
            "needs_background": "light"
          }
        }
      ]
    },
    {
      "cell_type": "code",
      "metadata": {
        "id": "GPPXf4Njden3"
      },
      "source": [
        ""
      ],
      "execution_count": null,
      "outputs": []
    }
  ]
}